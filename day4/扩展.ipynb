{
 "cells": [
  {
   "cell_type": "markdown",
   "metadata": {},
   "source": [
    "查询学过课程01且又学习课程02的学生信息"
   ]
  },
  {
   "cell_type": "markdown",
   "metadata": {},
   "source": [
    "select * from sc;\n",
    "+------+------+-------+\n",
    "| sn   | cn   | score |\n",
    "+------+------+-------+\n",
    "| 01   | 01   |  80.0 |\n",
    "| 01   | 02   |  90.0 |\n",
    "| 01   | 03   |  99.0 |\n",
    "| 02   | 01   |  70.0 |\n",
    "| 02   | 02   |  60.0 |\n",
    "| 02   | 03   |  80.0 |\n",
    "| 03   | 01   |  80.0 |\n",
    "| 03   | 02   |  80.0 |\n",
    "| 03   | 03   |  80.0 |\n",
    "| 04   | 01   |  50.0 |\n",
    "| 04   | 02   |  30.0 |\n",
    "| 04   | 03   |  20.0 |\n",
    "| 05   | 01   |  76.0 |\n",
    "| 05   | 02   |  87.0 |\n",
    "| 06   | 01   |  31.0 |\n",
    "| 06   | 03   |  34.0 |\n",
    "| 07   | 02   |  89.0 |\n",
    "| 07   | 03   |  98.0 |\n",
    "+------+------+-------+"
   ]
  },
  {
   "cell_type": "markdown",
   "metadata": {},
   "source": [
    "select s.*\n",
    "from sc a \n",
    "join sc b on (a.sn = b.sn)\n",
    "join student s on (a.sn = s.sn)\n",
    "where a.cn='01' \n",
    "and b.cn='02';"
   ]
  },
  {
   "cell_type": "markdown",
   "metadata": {},
   "source": [
    "+------+--------+---------------------+------+\n",
    "| sn   | name   | age                 | sex  |\n",
    "+------+--------+---------------------+------+\n",
    "| 01   | 赵雷   | 1990-01-01 00:00:00 | 男   |\n",
    "| 02   | 钱电   | 1990-12-21 00:00:00 | 男   |\n",
    "| 03   | 孙风   | 1990-05-20 00:00:00 | 男   |\n",
    "| 04   | 李云   | 1990-08-06 00:00:00 | 男   |\n",
    "| 05   | 周梅   | 1991-12-01 00:00:00 | 女   |\n",
    "+------+--------+---------------------+------+"
   ]
  },
  {
   "cell_type": "markdown",
   "metadata": {},
   "source": [
    "mysql的if(条件， 为True的结果， 为False的结果)函数的写法"
   ]
  },
  {
   "cell_type": "markdown",
   "metadata": {},
   "source": [
    "select s.*\n",
    "from (\n",
    "    select sn,\n",
    "           max(if(cn='01', score, 0)) as c1,\n",
    "           max(if(cn='02', score, 0)) as c2\n",
    "    from sc\n",
    "    group by sn) a\n",
    "join student s on(s.sn = a.sn)\n",
    "where a.c1>0 and a.c2>0;"
   ]
  },
  {
   "cell_type": "markdown",
   "metadata": {},
   "source": [
    "+------+--------+---------------------+------+\n",
    "| sn   | name   | age                 | sex  |\n",
    "+------+--------+---------------------+------+\n",
    "| 01   | 赵雷   | 1990-01-01 00:00:00 | 男   |\n",
    "| 02   | 钱电   | 1990-12-21 00:00:00 | 男   |\n",
    "| 03   | 孙风   | 1990-05-20 00:00:00 | 男   |\n",
    "| 04   | 李云   | 1990-08-06 00:00:00 | 男   |\n",
    "| 05   | 周梅   | 1991-12-01 00:00:00 | 女   |\n",
    "+------+--------+---------------------+------+"
   ]
  },
  {
   "cell_type": "markdown",
   "metadata": {},
   "source": [
    "## 查询5月份出生的学生信息"
   ]
  },
  {
   "cell_type": "code",
   "execution_count": null,
   "metadata": {},
   "outputs": [],
   "source": [
    "select * \n",
    "from student\n",
    "where month(age) = 5;"
   ]
  }
 ],
 "metadata": {
  "kernelspec": {
   "display_name": "Python 3",
   "language": "python",
   "name": "python3"
  },
  "language_info": {
   "codemirror_mode": {
    "name": "ipython",
    "version": 3
   },
   "file_extension": ".py",
   "mimetype": "text/x-python",
   "name": "python",
   "nbconvert_exporter": "python",
   "pygments_lexer": "ipython3",
   "version": "3.7.1"
  }
 },
 "nbformat": 4,
 "nbformat_minor": 2
}
