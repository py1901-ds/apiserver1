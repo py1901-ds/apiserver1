{
 "cells": [
  {
   "cell_type": "code",
   "execution_count": 2,
   "metadata": {},
   "outputs": [],
   "source": [
    "import numpy as np"
   ]
  },
  {
   "cell_type": "code",
   "execution_count": 3,
   "metadata": {
    "collapsed": true
   },
   "outputs": [
    {
     "data": {
      "text/plain": [
       "array([8, 8, 9, 4, 1, 2, 4, 5, 7, 6])"
      ]
     },
     "execution_count": 3,
     "metadata": {},
     "output_type": "execute_result"
    }
   ],
   "source": [
    "#1、创建一个长度为10的一维全为0的ndarray对象，然后让第5个元素等于1\n",
    "arr1 = np.random.randint(10,size=10)\n",
    "arr1[4] = 1\n",
    "arr1"
   ]
  },
  {
   "cell_type": "code",
   "execution_count": 4,
   "metadata": {
    "collapsed": true
   },
   "outputs": [
    {
     "data": {
      "text/plain": [
       "array([10, 11, 12, 13, 14, 15, 16, 17, 18, 19, 20, 21, 22, 23, 24, 25, 26,\n",
       "       27, 28, 29, 30, 31, 32, 33, 34, 35, 36, 37, 38, 39, 40, 41, 42, 43,\n",
       "       44, 45, 46, 47, 48, 49])"
      ]
     },
     "execution_count": 4,
     "metadata": {},
     "output_type": "execute_result"
    }
   ],
   "source": [
    "#2、创建一个元素为从10到49的ndarray对象\n",
    "arr2 = np.arange(10,50)\n",
    "arr2"
   ]
  },
  {
   "cell_type": "code",
   "execution_count": 6,
   "metadata": {
    "collapsed": true
   },
   "outputs": [
    {
     "data": {
      "text/plain": [
       "array([49, 48, 47, 46, 45, 44, 43, 42, 41, 40, 39, 38, 37, 36, 35, 34, 33,\n",
       "       32, 31, 30, 29, 28, 27, 26, 25, 24, 23, 22, 21, 20, 19, 18, 17, 16,\n",
       "       15, 14, 13, 12, 11, 10])"
      ]
     },
     "execution_count": 6,
     "metadata": {},
     "output_type": "execute_result"
    }
   ],
   "source": [
    "#3、将第2题的所有元素位置反转\n",
    "arr3 = arr2[::-1]\n",
    "arr3"
   ]
  },
  {
   "cell_type": "code",
   "execution_count": 8,
   "metadata": {
    "collapsed": true
   },
   "outputs": [
    {
     "data": {
      "text/plain": [
       "array([[0.40638869, 0.83115001, 0.76617745, 0.68491632, 0.05205545,\n",
       "        0.15165888, 0.4590845 , 0.2028923 , 0.20760255, 0.4237689 ],\n",
       "       [0.37899328, 0.66239251, 0.30078818, 0.48088646, 0.2343385 ,\n",
       "        0.09097078, 0.15465436, 0.02874143, 0.37146593, 0.90537127],\n",
       "       [0.11894646, 0.65420839, 0.01363454, 0.21081267, 0.96230202,\n",
       "        0.71570742, 0.86206446, 0.40509635, 0.7682233 , 0.04363581],\n",
       "       [0.9290901 , 0.92528869, 0.25497196, 0.03527191, 0.06458056,\n",
       "        0.99694989, 0.08857395, 0.43685927, 0.922886  , 0.47407263],\n",
       "       [0.07189091, 0.74267343, 0.2870828 , 0.49680557, 0.67363336,\n",
       "        0.22249249, 0.91742556, 0.93978097, 0.33980944, 0.62790241],\n",
       "       [0.33875974, 0.53202479, 0.31335088, 0.60052793, 0.82181954,\n",
       "        0.79866364, 0.17564019, 0.80734087, 0.46648477, 0.10175502],\n",
       "       [0.50883154, 0.90555401, 0.27120903, 0.59635193, 0.4845352 ,\n",
       "        0.21399715, 0.3898717 , 0.04825078, 0.70652485, 0.82656753],\n",
       "       [0.2355859 , 0.98654691, 0.31309265, 0.22068744, 0.4948905 ,\n",
       "        0.4930406 , 0.49548712, 0.35265339, 0.23513383, 0.18141392],\n",
       "       [0.15877236, 0.2687477 , 0.19265027, 0.32057985, 0.56538116,\n",
       "        0.44897018, 0.97404378, 0.49092856, 0.33412611, 0.44258589],\n",
       "       [0.35031918, 0.18233159, 0.02477035, 0.19456222, 0.82342765,\n",
       "        0.0203209 , 0.87709627, 0.21961533, 0.08745005, 0.94757179]])"
      ]
     },
     "execution_count": 8,
     "metadata": {},
     "output_type": "execute_result"
    }
   ],
   "source": [
    "#4、使用np.random.random创建一个10*10的ndarray对象，并打印出最大最小元素\n",
    "arr4 = np.random.random(size=(10,10))\n",
    "arr4"
   ]
  },
  {
   "cell_type": "code",
   "execution_count": 10,
   "metadata": {
    "collapsed": true
   },
   "outputs": [
    {
     "data": {
      "text/plain": [
       "0.9969498873289357"
      ]
     },
     "execution_count": 10,
     "metadata": {},
     "output_type": "execute_result"
    }
   ],
   "source": [
    "arr4.max()"
   ]
  },
  {
   "cell_type": "code",
   "execution_count": 24,
   "metadata": {
    "collapsed": true
   },
   "outputs": [
    {
     "data": {
      "text/plain": [
       "array([[0, 0, 0, 0, 0, 0, 0, 0, 0, 0],\n",
       "       [0, 0, 0, 0, 0, 0, 0, 0, 0, 0],\n",
       "       [0, 0, 0, 0, 0, 0, 0, 0, 0, 0],\n",
       "       [0, 0, 0, 0, 0, 0, 0, 0, 0, 0],\n",
       "       [0, 0, 0, 0, 0, 0, 0, 0, 0, 0],\n",
       "       [0, 0, 0, 0, 0, 0, 0, 0, 0, 0],\n",
       "       [0, 0, 0, 0, 0, 0, 0, 0, 0, 0],\n",
       "       [0, 0, 0, 0, 0, 0, 0, 0, 0, 0],\n",
       "       [0, 0, 0, 0, 0, 0, 0, 0, 0, 0],\n",
       "       [0, 0, 0, 0, 0, 0, 0, 0, 0, 0]])"
      ]
     },
     "execution_count": 24,
     "metadata": {},
     "output_type": "execute_result"
    }
   ],
   "source": [
    "#5、创建一个10*10的ndarray对象，且矩阵边界全为1，里面全为0\n",
    "arr5 = np.zeros((10,10)).astype(int)\n",
    "arr5"
   ]
  },
  {
   "cell_type": "code",
   "execution_count": 46,
   "metadata": {
    "collapsed": true
   },
   "outputs": [
    {
     "data": {
      "text/plain": [
       "array([[1, 1, 1, 1, 1, 1, 1, 1, 1, 1],\n",
       "       [1, 0, 0, 0, 0, 0, 0, 0, 0, 1],\n",
       "       [1, 0, 0, 0, 0, 0, 0, 0, 0, 1],\n",
       "       [1, 0, 0, 0, 0, 0, 0, 0, 0, 1],\n",
       "       [1, 0, 0, 0, 0, 0, 0, 0, 0, 1],\n",
       "       [1, 0, 0, 0, 0, 0, 0, 0, 0, 1],\n",
       "       [1, 0, 0, 0, 0, 0, 0, 0, 0, 1],\n",
       "       [1, 0, 0, 0, 0, 0, 0, 0, 0, 1],\n",
       "       [1, 0, 0, 0, 0, 0, 0, 0, 0, 1],\n",
       "       [1, 1, 1, 1, 1, 1, 1, 1, 1, 1]])"
      ]
     },
     "execution_count": 46,
     "metadata": {},
     "output_type": "execute_result"
    }
   ],
   "source": [
    "arr5[[0,9]][:,[0,9]] = 1\n",
    "arr5"
   ]
  },
  {
   "cell_type": "code",
   "execution_count": 36,
   "metadata": {
    "collapsed": true
   },
   "outputs": [
    {
     "data": {
      "text/plain": [
       "array([[0, 1, 2, 3, 4],\n",
       "       [0, 1, 2, 3, 4],\n",
       "       [0, 1, 2, 3, 4],\n",
       "       [0, 1, 2, 3, 4],\n",
       "       [0, 1, 2, 3, 4]])"
      ]
     },
     "execution_count": 36,
     "metadata": {},
     "output_type": "execute_result"
    }
   ],
   "source": [
    "#6、创建一个每一行都是从0到4的5*5矩阵\n",
    "arr6 = np.arange(5)\n",
    "arr6 = np.vstack((arr6,arr6,arr6,arr6,arr6))\n",
    "arr6"
   ]
  },
  {
   "cell_type": "code",
   "execution_count": 42,
   "metadata": {
    "collapsed": true
   },
   "outputs": [
    {
     "data": {
      "text/plain": [
       "array([0.        , 0.09090909, 0.18181818, 0.27272727, 0.36363636,\n",
       "       0.45454545, 0.54545455, 0.63636364, 0.72727273, 0.81818182,\n",
       "       0.90909091, 1.        ])"
      ]
     },
     "execution_count": 42,
     "metadata": {},
     "output_type": "execute_result"
    }
   ],
   "source": [
    "#7、创建一个范围在(0,1)之间的长度为12的等差数列\n",
    "arr7 = np.linspace(0,1,num=12,endpoint= True)\n",
    "arr7"
   ]
  },
  {
   "cell_type": "code",
   "execution_count": 48,
   "metadata": {
    "collapsed": true
   },
   "outputs": [
    {
     "data": {
      "text/plain": [
       "array([ 9,  9, 10, 11, 17, 28, 37, 46, 51, 60])"
      ]
     },
     "execution_count": 48,
     "metadata": {},
     "output_type": "execute_result"
    }
   ],
   "source": [
    "#8、创建一个长度为10的随机数组并排序\n",
    "arr8 = np.random.randint(100,size=10)\n",
    "arr8 = np.sort(arr8)\n",
    "arr8"
   ]
  },
  {
   "cell_type": "code",
   "execution_count": 137,
   "metadata": {
    "collapsed": true
   },
   "outputs": [
    {
     "data": {
      "text/plain": [
       "array([0, 5, 0, 4, 2, 1, 5, 0, 0, 4])"
      ]
     },
     "execution_count": 137,
     "metadata": {},
     "output_type": "execute_result"
    }
   ],
   "source": [
    "#9、创建一个长度为10的随机数组并将最大值替换为0\n",
    "arr9 = np.random.randint(1,8,size=10)\n",
    "for i in range(10):\n",
    "    if arr9[i] == arr9.max():\n",
    "        arr9[i] = 0\n",
    "arr9"
   ]
  },
  {
   "cell_type": "code",
   "execution_count": 116,
   "metadata": {},
   "outputs": [
    {
     "data": {
      "text/plain": [
       "array([[35, 71, 15, 97, 28],\n",
       "       [35, 48, 27,  4, 48],\n",
       "       [98, 46, 50, 28, 81],\n",
       "       [38, 98, 72, 99, 80],\n",
       "       [63, 38, 92, 20, 15]])"
      ]
     },
     "execution_count": 116,
     "metadata": {},
     "output_type": "execute_result"
    }
   ],
   "source": [
    "#10、如何根据第3列来对一个5*5矩阵排序？\n",
    "arr10 = np.random.randint(100,size=(5,5))\n",
    "arr10[np.argsort(arr10[:,2])]"
   ]
  },
  {
   "cell_type": "code",
   "execution_count": 10,
   "metadata": {},
   "outputs": [
    {
     "data": {
      "text/plain": [
       "array([[[[ 3, 43, 64, 33, 84],\n",
       "         [66, 17, 31, 94, 58],\n",
       "         [97, 65, 89, 84, 55],\n",
       "         [97, 16,  4, 88, 37]],\n",
       "\n",
       "        [[11, 63, 94, 99, 38],\n",
       "         [36, 74, 37, 45, 47],\n",
       "         [43, 15, 72, 40, 84],\n",
       "         [69, 98, 13, 86,  2]],\n",
       "\n",
       "        [[60, 62, 96, 73, 90],\n",
       "         [72, 92, 20, 54, 87],\n",
       "         [28, 43, 31, 81, 71],\n",
       "         [13, 43, 70, 30, 28]]],\n",
       "\n",
       "\n",
       "       [[[78, 13, 79, 29, 52],\n",
       "         [80, 65, 80,  5, 89],\n",
       "         [10, 24, 20, 60, 49],\n",
       "         [59, 21, 21, 16, 86]],\n",
       "\n",
       "        [[35, 13, 50, 46, 76],\n",
       "         [36, 20, 34, 46, 47],\n",
       "         [15, 97, 36, 13, 52],\n",
       "         [50, 34,  6, 67, 56]],\n",
       "\n",
       "        [[ 4,  6, 10, 26, 23],\n",
       "         [ 3, 30, 90, 70, 79],\n",
       "         [49, 68, 41, 47, 92],\n",
       "         [54, 78, 19, 29, 23]]]])"
      ]
     },
     "execution_count": 10,
     "metadata": {},
     "output_type": "execute_result"
    }
   ],
   "source": [
    "#11、给定一个4维矩阵，如何得到最后两维的和？\n",
    "arr11 = np.random.randint(100,size=(2,3,4,5))\n",
    "arr11\n"
   ]
  },
  {
   "cell_type": "code",
   "execution_count": null,
   "metadata": {},
   "outputs": [],
   "source": []
  },
  {
   "cell_type": "code",
   "execution_count": 83,
   "metadata": {
    "collapsed": true
   },
   "outputs": [
    {
     "name": "stdout",
     "output_type": "stream",
     "text": [
      "997\n",
      "1222\n",
      "1059\n",
      "1153\n",
      "769\n",
      "1052\n"
     ]
    }
   ],
   "source": [
    "for i in range(2):\n",
    "    for j in range(3):\n",
    "        print(np.sum(arr11[i][j]))"
   ]
  },
  {
   "cell_type": "code",
   "execution_count": 140,
   "metadata": {
    "collapsed": true
   },
   "outputs": [
    {
     "data": {
      "text/plain": [
       "array([1, 0, 0, 0, 2, 0, 0, 0, 3, 0, 0, 0, 4, 0, 0, 0, 5])"
      ]
     },
     "execution_count": 140,
     "metadata": {},
     "output_type": "execute_result"
    }
   ],
   "source": [
    "#12、给定数组[1, 2, 3, 4, 5]，如何得到在这个数组的每个元素之间插入3个0后的新数组？\n",
    "arr12 = np.array([1,2,3,4,5])\n",
    "arr_12 = np.zeros(shape=17,dtype=int)\n",
    "arr_12[::4] = arr12\n",
    "arr_12"
   ]
  },
  {
   "cell_type": "code",
   "execution_count": 3,
   "metadata": {},
   "outputs": [
    {
     "data": {
      "text/plain": [
       "array([[3, 2, 1, 4],\n",
       "       [1, 3, 5, 7]])"
      ]
     },
     "execution_count": 3,
     "metadata": {},
     "output_type": "execute_result"
    }
   ],
   "source": [
    "#13、给定一个二维矩阵，如何交换其中两行的元素？\n",
    "arr13 = np.random.randint(1,10,size=(2,4))\n",
    "arr13\n"
   ]
  },
  {
   "cell_type": "code",
   "execution_count": 4,
   "metadata": {},
   "outputs": [
    {
     "data": {
      "text/plain": [
       "array([[1, 3, 5, 7],\n",
       "       [3, 2, 1, 4]])"
      ]
     },
     "execution_count": 4,
     "metadata": {},
     "output_type": "execute_result"
    }
   ],
   "source": [
    "arr13[[0,1]] = arr13[[1,0]]\n",
    "arr13"
   ]
  }
 ],
 "metadata": {
  "kernelspec": {
   "display_name": "Python 3",
   "language": "python",
   "name": "python3"
  },
  "language_info": {
   "codemirror_mode": {
    "name": "ipython",
    "version": 3
   },
   "file_extension": ".py",
   "mimetype": "text/x-python",
   "name": "python",
   "nbconvert_exporter": "python",
   "pygments_lexer": "ipython3",
   "version": "3.7.3"
  }
 },
 "nbformat": 4,
 "nbformat_minor": 2
}
