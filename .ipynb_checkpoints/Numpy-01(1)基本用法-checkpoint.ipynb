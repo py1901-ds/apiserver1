{
 "cells": [
  {
   "cell_type": "code",
   "execution_count": 1,
   "metadata": {},
   "outputs": [],
   "source": [
    "import numpy as np"
   ]
  },
  {
   "cell_type": "code",
   "execution_count": 2,
   "metadata": {},
   "outputs": [
    {
     "data": {
      "text/plain": [
       "<module 'numpy.version' from '/home/disen/anaconda3/lib/python3.7/site-packages/numpy/version.py'>"
      ]
     },
     "execution_count": 2,
     "metadata": {},
     "output_type": "execute_result"
    }
   ],
   "source": [
    "np.version"
   ]
  },
  {
   "cell_type": "code",
   "execution_count": 3,
   "metadata": {},
   "outputs": [
    {
     "data": {
      "text/plain": [
       "'1.15.4'"
      ]
     },
     "execution_count": 3,
     "metadata": {},
     "output_type": "execute_result"
    }
   ],
   "source": [
    "np.__version__"
   ]
  },
  {
   "cell_type": "markdown",
   "metadata": {},
   "source": [
    "## 创建ndarray对象\n",
    "- 使用list列表和numpy.array()函数\n",
    "- 使用numpy库中提供的相关函数"
   ]
  },
  {
   "cell_type": "markdown",
   "metadata": {},
   "source": [
    "### 使用list方式创建多维数组ndarray对象"
   ]
  },
  {
   "cell_type": "code",
   "execution_count": 4,
   "metadata": {},
   "outputs": [
    {
     "data": {
      "text/plain": [
       "array([1, 2, 3], dtype=int8)"
      ]
     },
     "execution_count": 4,
     "metadata": {},
     "output_type": "execute_result"
    }
   ],
   "source": [
    "# [注意] 数组的元素类型都是统一的， \n",
    "#       如果不统一时，则按 int->float->str 从低到高的优先级进行转换\n",
    "arr1 = np.array([1,2,3], dtype=np.int8)\n",
    "arr1"
   ]
  },
  {
   "cell_type": "code",
   "execution_count": 5,
   "metadata": {},
   "outputs": [
    {
     "data": {
      "text/plain": [
       "array(['disen', '20', '99.5'], dtype='<U5')"
      ]
     },
     "execution_count": 5,
     "metadata": {},
     "output_type": "execute_result"
    }
   ],
   "source": [
    "arr2 = np.array(['disen', 20, 99.5])\n",
    "arr2"
   ]
  },
  {
   "cell_type": "code",
   "execution_count": 6,
   "metadata": {},
   "outputs": [
    {
     "data": {
      "text/plain": [
       "['disen', '20', '99.5']"
      ]
     },
     "execution_count": 6,
     "metadata": {},
     "output_type": "execute_result"
    }
   ],
   "source": [
    "# ndarray的数组是可以直接迭代的\n",
    "a2 = list(arr2)\n",
    "a2"
   ]
  },
  {
   "cell_type": "code",
   "execution_count": 7,
   "metadata": {},
   "outputs": [
    {
     "name": "stdout",
     "output_type": "stream",
     "text": [
      "disen\n",
      "20\n",
      "99.5\n"
     ]
    }
   ],
   "source": [
    "for _ in arr2:\n",
    "    print(_)"
   ]
  },
  {
   "cell_type": "code",
   "execution_count": 8,
   "metadata": {},
   "outputs": [
    {
     "name": "stdout",
     "output_type": "stream",
     "text": [
      "1\n",
      "2\n",
      "3\n"
     ]
    }
   ],
   "source": [
    "#? 是否可以通过元组来创建ndarray\n",
    "for _ in np.array((1, 2, 3)):\n",
    "    print(_)"
   ]
  },
  {
   "cell_type": "code",
   "execution_count": 9,
   "metadata": {},
   "outputs": [
    {
     "data": {
      "text/plain": [
       "array([[1, 2],\n",
       "       [3, 4],\n",
       "       [5, 6]], dtype=int8)"
      ]
     },
     "execution_count": 9,
     "metadata": {},
     "output_type": "execute_result"
    }
   ],
   "source": [
    "# ndarray是一个多维数组的对象\n",
    "# 可以是一维的、二维, ... n维的\n",
    "data = (\n",
    "    (1, 2),\n",
    "    (3, 4),\n",
    "    (5, 6)\n",
    ")\n",
    "arr3 = np.array(data, np.int8)\n",
    "arr3"
   ]
  },
  {
   "cell_type": "code",
   "execution_count": 10,
   "metadata": {},
   "outputs": [
    {
     "data": {
      "text/plain": [
       "numpy.ndarray"
      ]
     },
     "execution_count": 10,
     "metadata": {},
     "output_type": "execute_result"
    }
   ],
   "source": [
    "type(arr3)"
   ]
  },
  {
   "cell_type": "markdown",
   "metadata": {},
   "source": [
    "### numpy的函数创建ndarray"
   ]
  },
  {
   "cell_type": "raw",
   "metadata": {},
   "source": [
    "# ones()/zeros()/full()/eye() 函数\n",
    "# 1. 创建3*3的二维数组，每个元素都是1\n",
    "# 2. 创建3*3*2的三维数组，每个元素都是0\n",
    "# 3. 创建4*3的二维数组，每个元素都是9\n",
    "# 4. 创建5*5的二维数组，对角线上的每个元素都是1"
   ]
  },
  {
   "cell_type": "code",
   "execution_count": 11,
   "metadata": {},
   "outputs": [
    {
     "data": {
      "text/plain": [
       "array([[1, 1, 1],\n",
       "       [1, 1, 1],\n",
       "       [1, 1, 1]], dtype=int8)"
      ]
     },
     "execution_count": 11,
     "metadata": {},
     "output_type": "execute_result"
    }
   ],
   "source": [
    "# 1. 创建3*3的二维数组，每个元素都是1\n",
    "arr_1 = np.ones(shape=(3, 3), dtype=np.int8)\n",
    "arr_1.astype(np.int8)"
   ]
  },
  {
   "cell_type": "code",
   "execution_count": 12,
   "metadata": {},
   "outputs": [
    {
     "data": {
      "text/plain": [
       "array([[[0, 0],\n",
       "        [0, 0],\n",
       "        [0, 0]],\n",
       "\n",
       "       [[0, 0],\n",
       "        [0, 0],\n",
       "        [0, 0]],\n",
       "\n",
       "       [[0, 0],\n",
       "        [0, 0],\n",
       "        [0, 0]]])"
      ]
     },
     "execution_count": 12,
     "metadata": {},
     "output_type": "execute_result"
    }
   ],
   "source": [
    "# 2. 创建3*3*2的三维数组，每个元素都是0\n",
    "arr_2 = np.zeros((3, 3, 2), dtype=np.int)\n",
    "arr_2"
   ]
  },
  {
   "cell_type": "code",
   "execution_count": 13,
   "metadata": {},
   "outputs": [
    {
     "data": {
      "text/plain": [
       "array([[9, 9, 9],\n",
       "       [9, 9, 9],\n",
       "       [9, 9, 9],\n",
       "       [9, 9, 9]], dtype=int8)"
      ]
     },
     "execution_count": 13,
     "metadata": {},
     "output_type": "execute_result"
    }
   ],
   "source": [
    "# 3. 创建4*3的二维数组，每个元素都是9\n",
    "arr_3 = np.full((4, 3), fill_value=9, dtype=np.int8)\n",
    "arr_3"
   ]
  },
  {
   "cell_type": "code",
   "execution_count": 14,
   "metadata": {},
   "outputs": [
    {
     "data": {
      "text/plain": [
       "array([[1, 0, 0, 0, 0],\n",
       "       [0, 1, 0, 0, 0],\n",
       "       [0, 0, 1, 0, 0],\n",
       "       [0, 0, 0, 1, 0],\n",
       "       [0, 0, 0, 0, 1]])"
      ]
     },
     "execution_count": 14,
     "metadata": {},
     "output_type": "execute_result"
    }
   ],
   "source": [
    "# 4. 创建5*5的二维数组，对角线上的每个元素都是1的单位矩阵\n",
    "arr_4 = np.eye(5, dtype=int)\n",
    "arr_4"
   ]
  },
  {
   "cell_type": "markdown",
   "metadata": {},
   "source": [
    "### 创建等差数列\n",
    "- numpy.linspace()\n",
    "- numpy.arange()"
   ]
  },
  {
   "cell_type": "code",
   "execution_count": 15,
   "metadata": {},
   "outputs": [
    {
     "data": {
      "text/plain": [
       "array([  2,   4,   6,   8,  10,  12,  14,  16,  18,  20,  22,  24,  26,\n",
       "        28,  30,  32,  34,  36,  38,  40,  42,  44,  46,  48,  50,  52,\n",
       "        54,  56,  58,  60,  62,  64,  66,  68,  70,  72,  74,  76,  78,\n",
       "        80,  82,  84,  86,  88,  90,  92,  94,  96,  98, 100])"
      ]
     },
     "execution_count": 15,
     "metadata": {},
     "output_type": "execute_result"
    }
   ],
   "source": [
    "arr_5 = np.linspace(2, 100, num=50, endpoint=True).astype(int)\n",
    "arr_5"
   ]
  },
  {
   "cell_type": "code",
   "execution_count": 16,
   "metadata": {},
   "outputs": [
    {
     "data": {
      "text/plain": [
       "array([ 0,  2,  4,  6,  8, 10, 12, 14, 16, 18, 20, 22, 24, 26, 28, 30, 32,\n",
       "       34, 36, 38, 40, 42, 44, 46, 48, 50, 52, 54, 56, 58, 60, 62, 64, 66,\n",
       "       68, 70, 72, 74, 76, 78, 80, 82, 84, 86, 88, 90, 92, 94, 96, 98])"
      ]
     },
     "execution_count": 16,
     "metadata": {},
     "output_type": "execute_result"
    }
   ],
   "source": [
    "arr_6 = np.arange(100, step=2) # 不包含stop值, 默认start是0\n",
    "arr_6"
   ]
  },
  {
   "cell_type": "markdown",
   "metadata": {},
   "source": [
    "### 随机生成ndarray\n",
    "- numpy.random.random()\n",
    "- numpy.random.randint()\n",
    "- numpy.random.uniform()\n",
    "- numpy.random.randn()\n",
    "- numpy.random.normal()"
   ]
  },
  {
   "cell_type": "code",
   "execution_count": 17,
   "metadata": {},
   "outputs": [
    {
     "data": {
      "text/plain": [
       "array([[0.17386005, 0.16721412],\n",
       "       [0.56481191, 0.80349883],\n",
       "       [0.93049688, 0.62191783]])"
      ]
     },
     "execution_count": 17,
     "metadata": {},
     "output_type": "execute_result"
    }
   ],
   "source": [
    "arr_7 = np.random.random((3, 2)) # 取值范围 [0,1)\n",
    "arr_7"
   ]
  },
  {
   "cell_type": "code",
   "execution_count": 18,
   "metadata": {},
   "outputs": [
    {
     "data": {
      "text/plain": [
       "array([[7, 8, 7],\n",
       "       [1, 8, 5],\n",
       "       [9, 8, 6],\n",
       "       [7, 5, 1],\n",
       "       [9, 0, 1]])"
      ]
     },
     "execution_count": 18,
     "metadata": {},
     "output_type": "execute_result"
    }
   ],
   "source": [
    "arr_8 = np.random.randint(10, size=(5, 3))\n",
    "arr_8"
   ]
  },
  {
   "cell_type": "code",
   "execution_count": 19,
   "metadata": {},
   "outputs": [
    {
     "data": {
      "text/plain": [
       "array([[3.42797403, 3.9864969 , 3.63696852, 3.7193078 , 5.07689835],\n",
       "       [3.60565994, 1.76538573, 2.15980079, 3.19055906, 4.49343826],\n",
       "       [4.25921984, 4.00469352, 3.54545752, 5.29576504, 2.23654107],\n",
       "       [5.06779175, 1.85293022, 4.40840265, 4.3536503 , 4.86449621]])"
      ]
     },
     "execution_count": 19,
     "metadata": {},
     "output_type": "execute_result"
    }
   ],
   "source": [
    "arr_9 = np.random.uniform(1.5, 5.5, (4, 5))\n",
    "arr_9"
   ]
  },
  {
   "cell_type": "code",
   "execution_count": 20,
   "metadata": {},
   "outputs": [
    {
     "data": {
      "text/plain": [
       "4.56"
      ]
     },
     "execution_count": 20,
     "metadata": {},
     "output_type": "execute_result"
    }
   ],
   "source": [
    "# ndarray的元素是否可以四舍五入?\n",
    "round(4.55555,2)"
   ]
  },
  {
   "cell_type": "code",
   "execution_count": 21,
   "metadata": {},
   "outputs": [
    {
     "data": {
      "text/plain": [
       "array([[3.43, 3.99, 3.64, 3.72, 5.08],\n",
       "       [3.61, 1.77, 2.16, 3.19, 4.49],\n",
       "       [4.26, 4.  , 3.55, 5.3 , 2.24],\n",
       "       [5.07, 1.85, 4.41, 4.35, 4.86]])"
      ]
     },
     "execution_count": 21,
     "metadata": {},
     "output_type": "execute_result"
    }
   ],
   "source": [
    "np.round(arr_9, 2)"
   ]
  },
  {
   "cell_type": "code",
   "execution_count": 22,
   "metadata": {
    "collapsed": true
   },
   "outputs": [
    {
     "data": {
      "text/plain": [
       "array([[[ 2.0664208 ,  0.97144314, -0.67662217, -1.10866126],\n",
       "        [-0.88274012, -2.37102288,  1.54560741,  0.66449649]],\n",
       "\n",
       "       [[ 1.35071963,  2.81158272, -1.33756295, -0.08548935],\n",
       "        [-0.78093781,  0.87080819, -0.18021601,  0.79023595]],\n",
       "\n",
       "       [[ 0.83348759, -0.4786336 ,  0.21241187, -0.44271458],\n",
       "        [ 0.45248264,  0.25504331,  0.92115202, -2.19970795]]])"
      ]
     },
     "execution_count": 22,
     "metadata": {},
     "output_type": "execute_result"
    }
   ],
   "source": [
    "arr_10 = np.random.randn(3, 2, 4)\n",
    "arr_10"
   ]
  },
  {
   "cell_type": "code",
   "execution_count": 23,
   "metadata": {},
   "outputs": [
    {
     "data": {
      "text/plain": [
       "array([[4.17022005e-01, 7.20324493e-01],\n",
       "       [1.14374817e-04, 3.02332573e-01],\n",
       "       [1.46755891e-01, 9.23385948e-02]])"
      ]
     },
     "execution_count": 23,
     "metadata": {},
     "output_type": "execute_result"
    }
   ],
   "source": [
    "np.random.seed(1) # 随机种子:  使用相同的种子，每次生成的数据是一样的\n",
    "np.random.random((3, 2))"
   ]
  },
  {
   "cell_type": "code",
   "execution_count": 24,
   "metadata": {},
   "outputs": [
    {
     "data": {
      "text/plain": [
       "array([[4.17022005e-01, 7.20324493e-01],\n",
       "       [1.14374817e-04, 3.02332573e-01],\n",
       "       [1.46755891e-01, 9.23385948e-02]])"
      ]
     },
     "execution_count": 24,
     "metadata": {},
     "output_type": "execute_result"
    }
   ],
   "source": [
    "np.random.seed(1) # 随机种子:  使用相同的种子，每次生成的数据是一样的\n",
    "np.random.random((3, 2))"
   ]
  },
  {
   "cell_type": "markdown",
   "metadata": {},
   "source": [
    "### ndarray对象的属性\n",
    "- ndim 维度, 一个数值，如 2\n",
    "- shape 形状， 是一个元组， 如 (3, )或 (3, 2)\n",
    "- size  元素的总大小， 即元素的个数\n",
    "- dtype 元素的数据类型"
   ]
  },
  {
   "cell_type": "code",
   "execution_count": 25,
   "metadata": {},
   "outputs": [
    {
     "data": {
      "text/plain": [
       "3"
      ]
     },
     "execution_count": 25,
     "metadata": {},
     "output_type": "execute_result"
    }
   ],
   "source": [
    "arr_10.ndim"
   ]
  },
  {
   "cell_type": "code",
   "execution_count": 27,
   "metadata": {},
   "outputs": [
    {
     "data": {
      "text/plain": [
       "(3, 2, 4)"
      ]
     },
     "metadata": {},
     "output_type": "display_data"
    },
    {
     "data": {
      "text/plain": [
       "24"
      ]
     },
     "metadata": {},
     "output_type": "display_data"
    },
    {
     "data": {
      "text/plain": [
       "dtype('float64')"
      ]
     },
     "metadata": {},
     "output_type": "display_data"
    }
   ],
   "source": [
    "display(arr_10.shape)  # 类似于print()函数\n",
    "display(arr_10.size)\n",
    "display(arr_10.dtype)"
   ]
  },
  {
   "cell_type": "markdown",
   "metadata": {},
   "source": [
    "### ndarray的索引操作\n",
    "- 索引位置\n",
    "    - a[下标]\n",
    "    - a[行下标， 列下标]\n",
    "    - a[[下标1， 下标2, ...]]\n",
    "- 索引切片\n",
    "    - a[起始:结束:步长]\n",
    "    - a[:结束]  从0开始到指定的结束位置,步长为1\n",
    "    - a[:, 下标] 选择所有行，指定的列下标"
   ]
  },
  {
   "cell_type": "code",
   "execution_count": 28,
   "metadata": {},
   "outputs": [
    {
     "data": {
      "text/plain": [
       "array([[76, 71,  6],\n",
       "       [25, 50, 20],\n",
       "       [18, 84, 11],\n",
       "       [28, 29, 14],\n",
       "       [50, 68, 87]])"
      ]
     },
     "execution_count": 28,
     "metadata": {},
     "output_type": "execute_result"
    }
   ],
   "source": [
    "# 生成5位同学的三门课程成绩表\n",
    "d = np.random.randint(100, size=(5, 3))\n",
    "d"
   ]
  },
  {
   "cell_type": "code",
   "execution_count": 29,
   "metadata": {},
   "outputs": [
    {
     "data": {
      "text/plain": [
       "84"
      ]
     },
     "execution_count": 29,
     "metadata": {},
     "output_type": "execute_result"
    }
   ],
   "source": [
    "# 查看第3位同学的第2门课程的成绩\n",
    "d[2, 1]"
   ]
  },
  {
   "cell_type": "code",
   "execution_count": 32,
   "metadata": {},
   "outputs": [
    {
     "data": {
      "text/plain": [
       "array([[25, 20],\n",
       "       [28, 14],\n",
       "       [50, 87]])"
      ]
     },
     "execution_count": 32,
     "metadata": {},
     "output_type": "execute_result"
    }
   ],
   "source": [
    "# 查看第2、4、5位同学的第1门和第3门课程的成绩\n",
    "d[[1,3,4]][:, [0, 2]]"
   ]
  },
  {
   "cell_type": "code",
   "execution_count": 33,
   "metadata": {},
   "outputs": [
    {
     "data": {
      "text/plain": [
       "array([[76, 71],\n",
       "       [25, 50],\n",
       "       [18, 84]])"
      ]
     },
     "execution_count": 33,
     "metadata": {},
     "output_type": "execute_result"
    }
   ],
   "source": [
    "# 查看前3位同学的前2门课程\n",
    "d[:3, :2]"
   ]
  },
  {
   "cell_type": "code",
   "execution_count": 34,
   "metadata": {},
   "outputs": [
    {
     "data": {
      "text/plain": [
       "array([[ 6, 71, 76],\n",
       "       [20, 50, 25],\n",
       "       [11, 84, 18],\n",
       "       [14, 29, 28],\n",
       "       [87, 68, 50]])"
      ]
     },
     "execution_count": 34,
     "metadata": {},
     "output_type": "execute_result"
    }
   ],
   "source": [
    "# 将所有列反转一下\n",
    "d[:, ::-1]"
   ]
  },
  {
   "cell_type": "markdown",
   "metadata": {},
   "source": [
    "### 变形与转置\n",
    "- ndarray.reshape()  变形\n",
    "- ndarray.T/transpose() 矩阵的转置"
   ]
  },
  {
   "cell_type": "code",
   "execution_count": 36,
   "metadata": {},
   "outputs": [
    {
     "data": {
      "text/plain": [
       "array([87, 94, 96, 86, 13,  9,  7, 63, 61, 22, 57,  1,  0, 60, 81,  8, 88,\n",
       "       13, 47, 72, 30, 71,  3, 70])"
      ]
     },
     "execution_count": 36,
     "metadata": {},
     "output_type": "execute_result"
    }
   ],
   "source": [
    "d = np.random.randint(100, size=24)\n",
    "d"
   ]
  },
  {
   "cell_type": "code",
   "execution_count": 37,
   "metadata": {},
   "outputs": [
    {
     "data": {
      "text/plain": [
       "(24,)"
      ]
     },
     "execution_count": 37,
     "metadata": {},
     "output_type": "execute_result"
    }
   ],
   "source": [
    "d.shape"
   ]
  },
  {
   "cell_type": "code",
   "execution_count": 38,
   "metadata": {},
   "outputs": [
    {
     "data": {
      "text/plain": [
       "array([[87, 94, 96, 86, 13,  9,  7, 63],\n",
       "       [61, 22, 57,  1,  0, 60, 81,  8],\n",
       "       [88, 13, 47, 72, 30, 71,  3, 70]])"
      ]
     },
     "execution_count": 38,
     "metadata": {},
     "output_type": "execute_result"
    }
   ],
   "source": [
    "# 变成3行8列\n",
    "d.reshape((3, 8))"
   ]
  },
  {
   "cell_type": "code",
   "execution_count": 39,
   "metadata": {
    "collapsed": true
   },
   "outputs": [
    {
     "data": {
      "text/plain": [
       "array([[87],\n",
       "       [94],\n",
       "       [96],\n",
       "       [86],\n",
       "       [13],\n",
       "       [ 9],\n",
       "       [ 7],\n",
       "       [63],\n",
       "       [61],\n",
       "       [22],\n",
       "       [57],\n",
       "       [ 1],\n",
       "       [ 0],\n",
       "       [60],\n",
       "       [81],\n",
       "       [ 8],\n",
       "       [88],\n",
       "       [13],\n",
       "       [47],\n",
       "       [72],\n",
       "       [30],\n",
       "       [71],\n",
       "       [ 3],\n",
       "       [70]])"
      ]
     },
     "execution_count": 39,
     "metadata": {},
     "output_type": "execute_result"
    }
   ],
   "source": [
    "# 变成24行1列\n",
    "d.reshape((24, 1))"
   ]
  },
  {
   "cell_type": "code",
   "execution_count": 40,
   "metadata": {
    "collapsed": true
   },
   "outputs": [
    {
     "data": {
      "text/plain": [
       "array([[87, 94],\n",
       "       [96, 86],\n",
       "       [13,  9],\n",
       "       [ 7, 63],\n",
       "       [61, 22],\n",
       "       [57,  1],\n",
       "       [ 0, 60],\n",
       "       [81,  8],\n",
       "       [88, 13],\n",
       "       [47, 72],\n",
       "       [30, 71],\n",
       "       [ 3, 70]])"
      ]
     },
     "execution_count": 40,
     "metadata": {},
     "output_type": "execute_result"
    }
   ],
   "source": [
    "# 变成2列，任意行数\n",
    "d.reshape((-1, 2))"
   ]
  },
  {
   "cell_type": "markdown",
   "metadata": {},
   "source": [
    " 注意： 无论如何变形， 数组的总长度size不会变的。"
   ]
  },
  {
   "cell_type": "code",
   "execution_count": 42,
   "metadata": {},
   "outputs": [
    {
     "data": {
      "text/plain": [
       "array([[87, 94, 96, 86, 13,  9,  7, 63],\n",
       "       [61, 22, 57,  1,  0, 60, 81,  8],\n",
       "       [88, 13, 47, 72, 30, 71,  3, 70]])"
      ]
     },
     "execution_count": 42,
     "metadata": {},
     "output_type": "execute_result"
    }
   ],
   "source": [
    "d2 = d.reshape((3, 8))\n",
    "d2"
   ]
  },
  {
   "cell_type": "code",
   "execution_count": 43,
   "metadata": {},
   "outputs": [
    {
     "data": {
      "text/plain": [
       "array([[87, 61, 88],\n",
       "       [94, 22, 13],\n",
       "       [96, 57, 47],\n",
       "       [86,  1, 72],\n",
       "       [13,  0, 30],\n",
       "       [ 9, 60, 71],\n",
       "       [ 7, 81,  3],\n",
       "       [63,  8, 70]])"
      ]
     },
     "execution_count": 43,
     "metadata": {},
     "output_type": "execute_result"
    }
   ],
   "source": [
    "# 转置是将行和列进行互换\n",
    "d2.T"
   ]
  },
  {
   "cell_type": "code",
   "execution_count": 44,
   "metadata": {},
   "outputs": [
    {
     "data": {
      "text/plain": [
       "array([[87, 61, 88],\n",
       "       [94, 22, 13],\n",
       "       [96, 57, 47],\n",
       "       [86,  1, 72],\n",
       "       [13,  0, 30],\n",
       "       [ 9, 60, 71],\n",
       "       [ 7, 81,  3],\n",
       "       [63,  8, 70]])"
      ]
     },
     "execution_count": 44,
     "metadata": {},
     "output_type": "execute_result"
    }
   ],
   "source": [
    "d2.transpose()"
   ]
  },
  {
   "cell_type": "raw",
   "metadata": {},
   "source": [
    "# 扩展任务\n",
    "给定一个数据库表 A, 内容如下：\n",
    "  year, month, amount\n",
    "  1991, 1,     1.1\n",
    "  1991, 2,     1.2\n",
    "  1992, 1,     2.1\n",
    "  1992, 2,     2.2\n",
    "  \n",
    "请写出SQL语句，让查询的结果为\n",
    "  year, m1,  m2\n",
    "  1991, 1.1, 1.2\n",
    "  1992, 2.1, 2.2\n",
    "  \n",
    "提示： 使用if()函数或自连表查询"
   ]
  },
  {
   "cell_type": "raw",
   "metadata": {},
   "source": [
    "create table A(year char(4), month varchar(2), amount float);\n",
    "insert into A values\n",
    "('1991','1', 1.1),\n",
    "('1991','2', 1.2),\n",
    "('1992','1', 2.1),\n",
    "('1992','2', 2.2);"
   ]
  },
  {
   "cell_type": "markdown",
   "metadata": {},
   "source": [
    "select a1.year, a1.amount as m1, a2.amount as m2\n",
    "from A a1 \n",
    "join A a2 on (a1.year = a2.year)\n",
    "where a1.month='1' and a2.month='2';"
   ]
  },
  {
   "cell_type": "markdown",
   "metadata": {},
   "source": [
    "-- if(条件， 为True的结果， 为False的结果)\n",
    "select year, \n",
    "       max(round(if(month='1', amount, 0), 1)) as m1,\n",
    "       max(round(if(month='2', amount, 0), 1)) as m2\n",
    "from A\n",
    "group by year;"
   ]
  },
  {
   "cell_type": "markdown",
   "metadata": {},
   "source": [
    "### ndarray的级联\n",
    "\n",
    "将多个数组按水平或垂直的方向进行拼接, axis表示级联的方向\n",
    "- np.concatenate((a1, a2, ...), axis=0)\n",
    "- np.hstack((a1, a2, ...) 水平方向\n",
    "- np.vstack((a1, a2, ...) 垂直方向"
   ]
  },
  {
   "cell_type": "code",
   "execution_count": 48,
   "metadata": {},
   "outputs": [
    {
     "data": {
      "text/plain": [
       "array([[ 1,  2, 10, 20],\n",
       "       [ 3,  4, 30, 40]])"
      ]
     },
     "execution_count": 48,
     "metadata": {},
     "output_type": "execute_result"
    }
   ],
   "source": [
    "a1 = np.array([[1, 2], \n",
    "               [3, 4]])\n",
    "\n",
    "a2 = np.array([[10, 20], \n",
    "               [30, 40]])\n",
    "\n",
    "# axis=0表示垂直方向级联， 0表示最外层\n",
    "# axis=1表示水平方向级联， 1表示第二层， \n",
    "#                       -1表示最内层，如果是二维数组时，-1和1是一样的\n",
    "np.concatenate((a1, a2), axis=-1)  "
   ]
  },
  {
   "cell_type": "code",
   "execution_count": 49,
   "metadata": {},
   "outputs": [
    {
     "data": {
      "text/plain": [
       "array([[ 1,  2, 10, 20],\n",
       "       [ 3,  4, 30, 40]])"
      ]
     },
     "execution_count": 49,
     "metadata": {},
     "output_type": "execute_result"
    }
   ],
   "source": [
    "np.hstack((a1, a2))"
   ]
  },
  {
   "cell_type": "code",
   "execution_count": 50,
   "metadata": {},
   "outputs": [
    {
     "data": {
      "text/plain": [
       "array([[ 1,  2],\n",
       "       [ 3,  4],\n",
       "       [10, 20],\n",
       "       [30, 40]])"
      ]
     },
     "execution_count": 50,
     "metadata": {},
     "output_type": "execute_result"
    }
   ],
   "source": [
    "np.vstack((a1, a2))"
   ]
  },
  {
   "cell_type": "code",
   "execution_count": 51,
   "metadata": {},
   "outputs": [
    {
     "data": {
      "text/plain": [
       "array([[21, 49, 43, 76],\n",
       "       [57,  3, 26, 52],\n",
       "       [68, 24, 80, 41]])"
      ]
     },
     "execution_count": 51,
     "metadata": {},
     "output_type": "execute_result"
    }
   ],
   "source": [
    "# 生成两个三位学生的2门课程的成绩表，并且合成四门课程的三位同学的成绩表\n",
    "s1 = np.random.randint(100, size=(3, 2))\n",
    "s2 = np.random.randint(100, size=(3, 2))\n",
    "np.concatenate((s1, s2), axis=-1)"
   ]
  },
  {
   "cell_type": "code",
   "execution_count": 52,
   "metadata": {},
   "outputs": [
    {
     "data": {
      "text/plain": [
       "array([[21, 49, 43, 76],\n",
       "       [57,  3, 26, 52],\n",
       "       [68, 24, 80, 41]])"
      ]
     },
     "execution_count": 52,
     "metadata": {},
     "output_type": "execute_result"
    }
   ],
   "source": [
    "np.hstack((s1, s2))"
   ]
  },
  {
   "cell_type": "markdown",
   "metadata": {},
   "source": [
    "### ndarray的切割\n",
    "- np.split(arr, indexies_or_sections, axis=0)\n",
    "- np.hsplit()  等价于axis=1\n",
    "- np.vsplit()  等价于axis=0"
   ]
  },
  {
   "cell_type": "code",
   "execution_count": 53,
   "metadata": {},
   "outputs": [
    {
     "data": {
      "text/plain": [
       "array([[82, 15, 64, 68, 25, 98],\n",
       "       [87,  7, 26, 25, 22,  9],\n",
       "       [67, 23, 27, 37, 57, 83],\n",
       "       [38,  8, 32, 34, 10, 23],\n",
       "       [15, 87, 25, 71, 92, 74],\n",
       "       [62, 46, 32, 88, 23, 55],\n",
       "       [65, 77,  3,  0, 77,  6],\n",
       "       [52, 85, 70,  2, 76, 91],\n",
       "       [21, 75,  7, 77, 72, 75],\n",
       "       [76, 43, 20, 30, 36,  7]])"
      ]
     },
     "execution_count": 53,
     "metadata": {},
     "output_type": "execute_result"
    }
   ],
   "source": [
    "s3 = np.random.randint(100, size=(10, 6))\n",
    "s3"
   ]
  },
  {
   "cell_type": "code",
   "execution_count": 56,
   "metadata": {
    "collapsed": true
   },
   "outputs": [
    {
     "data": {
      "text/plain": [
       "[array([[82, 15, 64, 68],\n",
       "        [87,  7, 26, 25],\n",
       "        [67, 23, 27, 37],\n",
       "        [38,  8, 32, 34],\n",
       "        [15, 87, 25, 71],\n",
       "        [62, 46, 32, 88],\n",
       "        [65, 77,  3,  0],\n",
       "        [52, 85, 70,  2],\n",
       "        [21, 75,  7, 77],\n",
       "        [76, 43, 20, 30]]), array([[25, 98],\n",
       "        [22,  9],\n",
       "        [57, 83],\n",
       "        [10, 23],\n",
       "        [92, 74],\n",
       "        [23, 55],\n",
       "        [77,  6],\n",
       "        [76, 91],\n",
       "        [72, 75],\n",
       "        [36,  7]])]"
      ]
     },
     "execution_count": 56,
     "metadata": {},
     "output_type": "execute_result"
    }
   ],
   "source": [
    "np.split(s3, [4], axis=1)  # 从第5列的前面切割"
   ]
  },
  {
   "cell_type": "code",
   "execution_count": 59,
   "metadata": {
    "collapsed": true
   },
   "outputs": [
    {
     "data": {
      "text/plain": [
       "array([[82, 15, 64, 68, 25, 98],\n",
       "       [87,  7, 26, 25, 22,  9],\n",
       "       [67, 23, 27, 37, 57, 83],\n",
       "       [38,  8, 32, 34, 10, 23],\n",
       "       [15, 87, 25, 71, 92, 74]])"
      ]
     },
     "execution_count": 59,
     "metadata": {},
     "output_type": "execute_result"
    }
   ],
   "source": [
    "a1, a2, a3 = np.split(s3, [5, 8], axis=0)\n",
    "a1"
   ]
  },
  {
   "cell_type": "code",
   "execution_count": 60,
   "metadata": {},
   "outputs": [
    {
     "data": {
      "text/plain": [
       "[array([[82, 15, 64, 68, 25, 98],\n",
       "        [87,  7, 26, 25, 22,  9],\n",
       "        [67, 23, 27, 37, 57, 83],\n",
       "        [38,  8, 32, 34, 10, 23],\n",
       "        [15, 87, 25, 71, 92, 74]]), array([[62, 46, 32, 88, 23, 55],\n",
       "        [65, 77,  3,  0, 77,  6],\n",
       "        [52, 85, 70,  2, 76, 91]]), array([[21, 75,  7, 77, 72, 75],\n",
       "        [76, 43, 20, 30, 36,  7]])]"
      ]
     },
     "execution_count": 60,
     "metadata": {},
     "output_type": "execute_result"
    }
   ],
   "source": [
    "np.vsplit(s3, [5, 8])"
   ]
  },
  {
   "cell_type": "code",
   "execution_count": 61,
   "metadata": {
    "collapsed": true
   },
   "outputs": [
    {
     "data": {
      "text/plain": [
       "[array([[82, 15, 64, 68],\n",
       "        [87,  7, 26, 25],\n",
       "        [67, 23, 27, 37],\n",
       "        [38,  8, 32, 34],\n",
       "        [15, 87, 25, 71],\n",
       "        [62, 46, 32, 88],\n",
       "        [65, 77,  3,  0],\n",
       "        [52, 85, 70,  2],\n",
       "        [21, 75,  7, 77],\n",
       "        [76, 43, 20, 30]]), array([[25, 98],\n",
       "        [22,  9],\n",
       "        [57, 83],\n",
       "        [10, 23],\n",
       "        [92, 74],\n",
       "        [23, 55],\n",
       "        [77,  6],\n",
       "        [76, 91],\n",
       "        [72, 75],\n",
       "        [36,  7]])]"
      ]
     },
     "execution_count": 61,
     "metadata": {},
     "output_type": "execute_result"
    }
   ],
   "source": [
    "np.hsplit(s3, [4]) "
   ]
  },
  {
   "cell_type": "markdown",
   "metadata": {},
   "source": [
    "### ndarray的copy副本\n",
    "- 属性深度copy "
   ]
  },
  {
   "cell_type": "code",
   "execution_count": 63,
   "metadata": {},
   "outputs": [
    {
     "data": {
      "text/plain": [
       "array([[82, 15, 64, 68, 25, 98],\n",
       "       [87,  7, 26, 25, 22,  9],\n",
       "       [67, 23, 27, 37, 57, 83],\n",
       "       [38,  8, 32, 34, 10, 23],\n",
       "       [15, 87, 25, 71, 92, 74]])"
      ]
     },
     "execution_count": 63,
     "metadata": {},
     "output_type": "execute_result"
    }
   ],
   "source": [
    "a1"
   ]
  },
  {
   "cell_type": "code",
   "execution_count": 64,
   "metadata": {},
   "outputs": [],
   "source": [
    "aa1 = a1.copy()"
   ]
  },
  {
   "cell_type": "code",
   "execution_count": 65,
   "metadata": {},
   "outputs": [
    {
     "data": {
      "text/plain": [
       "100"
      ]
     },
     "metadata": {},
     "output_type": "display_data"
    },
    {
     "data": {
      "text/plain": [
       "82"
      ]
     },
     "metadata": {},
     "output_type": "display_data"
    }
   ],
   "source": [
    "aa1[0, 0] = 100\n",
    "display(aa1[0,0], a1[0, 0])"
   ]
  },
  {
   "cell_type": "code",
   "execution_count": 67,
   "metadata": {},
   "outputs": [
    {
     "data": {
      "text/plain": [
       "array([87, 87, 64, 71, 92, 98])"
      ]
     },
     "execution_count": 67,
     "metadata": {},
     "output_type": "execute_result"
    }
   ],
   "source": [
    "a1.max(axis=0) # 显示每列的最大值"
   ]
  },
  {
   "cell_type": "code",
   "execution_count": 68,
   "metadata": {},
   "outputs": [
    {
     "data": {
      "text/plain": [
       "array([15,  7, 23,  8, 15])"
      ]
     },
     "execution_count": 68,
     "metadata": {},
     "output_type": "execute_result"
    }
   ],
   "source": [
    "a1.min(axis=1) # 显示每一行的最小值"
   ]
  }
 ],
 "metadata": {
  "kernelspec": {
   "display_name": "Python 3",
   "language": "python",
   "name": "python3"
  },
  "language_info": {
   "codemirror_mode": {
    "name": "ipython",
    "version": 3
   },
   "file_extension": ".py",
   "mimetype": "text/x-python",
   "name": "python",
   "nbconvert_exporter": "python",
   "pygments_lexer": "ipython3",
   "version": "3.7.3"
  }
 },
 "nbformat": 4,
 "nbformat_minor": 2
}
