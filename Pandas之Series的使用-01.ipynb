{
 "cells": [
  {
   "cell_type": "code",
   "execution_count": 1,
   "metadata": {},
   "outputs": [],
   "source": [
    "import numpy as np\n",
    "import pandas as pd\n",
    "from pandas import Series,DataFrame"
   ]
  },
  {
   "cell_type": "code",
   "execution_count": null,
   "metadata": {},
   "outputs": [],
   "source": [
    "#Series的创建\n",
    "- 使用list或ndarray创建Seribes\n",
    "- 使用字典创建Series\n",
    "Series可以认为是一个一维数组，表示一行(实例或样本)数据集或一列(特征)数据集"
   ]
  },
  {
   "cell_type": "code",
   "execution_count": 7,
   "metadata": {
    "collapsed": true
   },
   "outputs": [
    {
     "data": {
      "text/plain": [
       "10001    16\n",
       "10002     1\n",
       "10003    92\n",
       "10004    68\n",
       "10005    80\n",
       "10006    38\n",
       "10007    50\n",
       "10008    75\n",
       "10009    35\n",
       "10010    73\n",
       "Name: 语文, dtype: int32"
      ]
     },
     "execution_count": 7,
     "metadata": {},
     "output_type": "execute_result"
    }
   ],
   "source": [
    "#创建10位同学的语文成绩(0,100)，要求索引是学生的编号(10001,10010)\n",
    "s1 = Series(np.random.randint(100,size=10),\n",
    "            index=[index for index in range(10001,10011)],name='语文')\n",
    "s1"
   ]
  },
  {
   "cell_type": "code",
   "execution_count": 5,
   "metadata": {
    "collapsed": true
   },
   "outputs": [
    {
     "data": {
      "text/plain": [
       "disen    87\n",
       "jack     98\n",
       "rose     25\n",
       "dtype: int64"
      ]
     },
     "execution_count": 5,
     "metadata": {},
     "output_type": "execute_result"
    }
   ],
   "source": [
    "#创建disen，jack，rose三位同学的Python的成绩，使用字典的方式创建Series\n",
    "s2 = Series({\n",
    "    'disen':np.random.randint(100),\n",
    "    'jack': np.random.randint(100),\n",
    "    'rose': np.random.randint(100),\n",
    "})\n",
    "s2"
   ]
  },
  {
   "cell_type": "markdown",
   "metadata": {},
   "source": [
    "### Series的索引\n",
    "- 显示索引\n",
    "    - s[索引标签]\n",
    "    - s[[索引标签1，索引标签2，...]]\n",
    "    - s.loc[索引标签]\n",
    "    - s.loc[[索引标签1，索引标签2，...]]\n",
    "- 隐式索引\n",
    "    - s.iloc[索引标签]\n",
    "    - s.iloc[[索引标签1，索引标签2，...]]"
   ]
  },
  {
   "cell_type": "code",
   "execution_count": 8,
   "metadata": {},
   "outputs": [],
   "source": [
    "# 查看 10005和10010的学生的语文成绩\n"
   ]
  },
  {
   "cell_type": "markdown",
   "metadata": {},
   "source": [
    "### 索引切片\n",
    "\n",
    "- s.loc[标签1:标签n]\n",
    "- s.iloc[下标1:下标n]\n"
   ]
  },
  {
   "cell_type": "code",
   "execution_count": 10,
   "metadata": {},
   "outputs": [
    {
     "data": {
      "text/plain": [
       "10001    16.0\n",
       "10002     1.0\n",
       "10003    92.0\n",
       "10004    68.0\n",
       "10005    80.0\n",
       "10006    38.0\n",
       "10007    50.0\n",
       "10008     NaN\n",
       "10009    35.0\n",
       "10010    73.0\n",
       "Name: 语文, dtype: float64"
      ]
     },
     "execution_count": 10,
     "metadata": {},
     "output_type": "execute_result"
    }
   ],
   "source": [
    "s1.loc[10008] = None\n",
    "s1"
   ]
  },
  {
   "cell_type": "code",
   "execution_count": null,
   "metadata": {},
   "outputs": [],
   "source": [
    "#head(),tail(),pd.isnull(),pd.notnull()"
   ]
  },
  {
   "cell_type": "code",
   "execution_count": 11,
   "metadata": {},
   "outputs": [
    {
     "data": {
      "text/plain": [
       "10008   NaN\n",
       "Name: 语文, dtype: float64"
      ]
     },
     "execution_count": 11,
     "metadata": {},
     "output_type": "execute_result"
    }
   ],
   "source": [
    "s1[pd.isnull(s1)] #如果索引对应的数值是bool类型，可以作为s[]中的索引序列使用"
   ]
  },
  {
   "cell_type": "code",
   "execution_count": 12,
   "metadata": {},
   "outputs": [
    {
     "data": {
      "text/plain": [
       "10001    160.0\n",
       "10002     10.0\n",
       "10003    920.0\n",
       "10004    680.0\n",
       "10005    800.0\n",
       "10006    380.0\n",
       "10007    500.0\n",
       "10008     10.0\n",
       "10009    350.0\n",
       "10010    730.0\n",
       "Name: 语文, dtype: float64"
      ]
     },
     "execution_count": 12,
     "metadata": {},
     "output_type": "execute_result"
    }
   ],
   "source": [
    "s1.mul(10,fill_value = 1) # fill_value填充Nan"
   ]
  },
  {
   "cell_type": "code",
   "execution_count": 13,
   "metadata": {},
   "outputs": [
    {
     "data": {
      "text/plain": [
       "语文    150\n",
       "数学    150\n",
       "英语    150\n",
       "理综    300\n",
       "dtype: int64"
      ]
     },
     "execution_count": 13,
     "metadata": {},
     "output_type": "execute_result"
    }
   ],
   "source": [
    "#练习1：使用多种方法创建以下Series，命名为s： 语文 150 数学 150 英语 150 理综 300\n",
    "s1 = Series([150,150,150,300],index=['语文','数学','英语','理综'])\n",
    "s1"
   ]
  },
  {
   "cell_type": "code",
   "execution_count": 14,
   "metadata": {},
   "outputs": [
    {
     "data": {
      "text/plain": [
       "语文    150\n",
       "数学    150\n",
       "英语    150\n",
       "理综    300\n",
       "dtype: int64"
      ]
     },
     "execution_count": 14,
     "metadata": {},
     "output_type": "execute_result"
    }
   ],
   "source": [
    "s1 = Series({'语文':150,'数学':150,'英语':150,'理综':300})\n",
    "s1"
   ]
  },
  {
   "cell_type": "code",
   "execution_count": 18,
   "metadata": {},
   "outputs": [
    {
     "data": {
      "text/plain": [
       "语文    150\n",
       "数学    150\n",
       "英语    150\n",
       "理综    300\n",
       "dtype: int64"
      ]
     },
     "execution_count": 18,
     "metadata": {},
     "output_type": "execute_result"
    }
   ],
   "source": [
    "s2 = s1.copy()\n",
    "s2"
   ]
  }
 ],
 "metadata": {
  "kernelspec": {
   "display_name": "Python 3",
   "language": "python",
   "name": "python3"
  },
  "language_info": {
   "codemirror_mode": {
    "name": "ipython",
    "version": 3
   },
   "file_extension": ".py",
   "mimetype": "text/x-python",
   "name": "python",
   "nbconvert_exporter": "python",
   "pygments_lexer": "ipython3",
   "version": "3.7.3"
  }
 },
 "nbformat": 4,
 "nbformat_minor": 2
}
