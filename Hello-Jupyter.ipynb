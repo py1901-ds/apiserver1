{
 "cells": [
  {
   "cell_type": "code",
   "execution_count": 1,
   "metadata": {},
   "outputs": [
    {
     "ename": "ModuleNotFoundError",
     "evalue": "No module named 'datatime'",
     "output_type": "error",
     "traceback": [
      "\u001b[1;31m---------------------------------------------------------------------------\u001b[0m",
      "\u001b[1;31mModuleNotFoundError\u001b[0m                       Traceback (most recent call last)",
      "\u001b[1;32m<ipython-input-1-fc4c490e656b>\u001b[0m in \u001b[0;36m<module>\u001b[1;34m\u001b[0m\n\u001b[1;32m----> 1\u001b[1;33m \u001b[1;32mfrom\u001b[0m \u001b[0mdatatime\u001b[0m \u001b[1;32mimport\u001b[0m \u001b[0mdatetime\u001b[0m\u001b[1;33m\u001b[0m\u001b[1;33m\u001b[0m\u001b[0m\n\u001b[0m",
      "\u001b[1;31mModuleNotFoundError\u001b[0m: No module named 'datatime'"
     ]
    }
   ],
   "source": [
    "from datatime import datetime"
   ]
  },
  {
   "cell_type": "code",
   "execution_count": 2,
   "metadata": {},
   "outputs": [],
   "source": [
    "from datetime import datetime"
   ]
  },
  {
   "cell_type": "code",
   "execution_count": 5,
   "metadata": {},
   "outputs": [],
   "source": [
    "from datetime import datetime"
   ]
  },
  {
   "cell_type": "code",
   "execution_count": 6,
   "metadata": {},
   "outputs": [
    {
     "data": {
      "text/plain": [
       "datetime.datetime(2019, 6, 17, 11, 20, 38, 659796)"
      ]
     },
     "execution_count": 6,
     "metadata": {},
     "output_type": "execute_result"
    }
   ],
   "source": [
    "datetime.today()"
   ]
  },
  {
   "cell_type": "code",
   "execution_count": null,
   "metadata": {},
   "outputs": [],
   "source": [
    "today??   查看today对象代码\n",
    "#Cell 在编辑状态下，按ESC进入选择状态\n",
    "#在选择状态(命令模式)下，\n",
    "#    ->按b则会在当前Cell的下方创建新的Cell\n",
    "#    ->按a则会在当前Cell的上方创建新的Cel#l\n",
    "#    ->x    剪切Cell\n",
    "#    ->v   粘贴复制或剪切Cell\n",
    "#    ->c    复制Cell\n",
    "#    ->shift   +    方向键选择多行的Cell\n",
    "#    ->dd  删除选择的Cell\n",
    "#    ->m   将Cell转成markdown标记文本\n",
    "#    ->y   将Cell转成 code代码\n",
    "#    ->o    可以隐藏或者显示Cell执行的结果\n",
    "#     ->shift+m   合并多个选择的Cell\n",
    "\n",
    "#在编辑状态下：\n",
    "#    ->   ctrl+enter  只执行当前的单元\n",
    "#    ->   alt+enter   执行当前的单元，同时在下方新建Cell\n",
    "#    ->   shift+tab   提示函数或方法的参数\n",
    "#    ->   ctrl +[     向左缩进\n",
    "#    ->   ctrl+]      向右缩进\n",
    "#    ->               \n",
    "\n",
    "\n",
    "\n",
    "\n",
    "\n",
    "\n",
    "\n",
    "\n",
    "\n",
    "\n",
    "\n",
    "\n",
    "\n",
    "\n",
    "\n",
    "\n",
    "\n",
    "\n"
   ]
  },
  {
   "cell_type": "code",
   "execution_count": null,
   "metadata": {},
   "outputs": [],
   "source": []
  }
 ],
 "metadata": {
  "kernelspec": {
   "display_name": "Python 3",
   "language": "python",
   "name": "python3"
  },
  "language_info": {
   "codemirror_mode": {
    "name": "ipython",
    "version": 3
   },
   "file_extension": ".py",
   "mimetype": "text/x-python",
   "name": "python",
   "nbconvert_exporter": "python",
   "pygments_lexer": "ipython3",
   "version": "3.7.3"
  }
 },
 "nbformat": 4,
 "nbformat_minor": 2
}
