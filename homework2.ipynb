{
 "cells": [
  {
   "cell_type": "code",
   "execution_count": 1,
   "metadata": {},
   "outputs": [],
   "source": [
    "import numpy as np\n",
    "import pandas as pd\n",
    "from pandas import Series,DataFrame"
   ]
  },
  {
   "cell_type": "markdown",
   "metadata": {},
   "source": [
    "### 2. 不看讲义代码，重新实现一遍张三李四的考场故事。\n",
    "假设ddd是期中考试成绩，ddd2是期末考试成绩，请自由创建ddd2，并将其与ddd相加，求期中期末\n",
    "平均值。\n",
    "假设张三期中考试数学被发现作弊，要记为0分，如何实现？\n",
    "李四因为举报张三作弊立功，期中考试所有科目加100分，如何实现？\n",
    "后来老师发现有一道题出错了，为了安抚学生情绪，给每位学生每个科目都加10分，如何实现？"
   ]
  },
  {
   "cell_type": "code",
   "execution_count": 2,
   "metadata": {},
   "outputs": [],
   "source": [
    "def create_df(index,columns,shape):\n",
    "    data = np.round(np.random.uniform(100,size=shape),1)\n",
    "    return DataFrame(data,index,columns)\n",
    "ddd = create_df(['张三','李四','王二','赵一'],\n",
    "               ['语文','数学','英语'],\n",
    "               (4,3))\n",
    "ddd2 = create_df(['张三','李四','王二','赵一'],\n",
    "               ['语文','数学','英语'],\n",
    "               (4,3))"
   ]
  },
  {
   "cell_type": "code",
   "execution_count": 3,
   "metadata": {},
   "outputs": [
    {
     "data": {
      "text/html": [
       "<div>\n",
       "<style scoped>\n",
       "    .dataframe tbody tr th:only-of-type {\n",
       "        vertical-align: middle;\n",
       "    }\n",
       "\n",
       "    .dataframe tbody tr th {\n",
       "        vertical-align: top;\n",
       "    }\n",
       "\n",
       "    .dataframe thead th {\n",
       "        text-align: right;\n",
       "    }\n",
       "</style>\n",
       "<table border=\"1\" class=\"dataframe\">\n",
       "  <thead>\n",
       "    <tr style=\"text-align: right;\">\n",
       "      <th></th>\n",
       "      <th>语文</th>\n",
       "      <th>数学</th>\n",
       "      <th>英语</th>\n",
       "    </tr>\n",
       "  </thead>\n",
       "  <tbody>\n",
       "    <tr>\n",
       "      <th>张三</th>\n",
       "      <td>64.2</td>\n",
       "      <td>19.5</td>\n",
       "      <td>44.1</td>\n",
       "    </tr>\n",
       "    <tr>\n",
       "      <th>李四</th>\n",
       "      <td>72.7</td>\n",
       "      <td>37.3</td>\n",
       "      <td>56.8</td>\n",
       "    </tr>\n",
       "    <tr>\n",
       "      <th>王二</th>\n",
       "      <td>70.8</td>\n",
       "      <td>53.2</td>\n",
       "      <td>71.1</td>\n",
       "    </tr>\n",
       "    <tr>\n",
       "      <th>赵一</th>\n",
       "      <td>85.1</td>\n",
       "      <td>13.7</td>\n",
       "      <td>14.2</td>\n",
       "    </tr>\n",
       "  </tbody>\n",
       "</table>\n",
       "</div>"
      ],
      "text/plain": [
       "      语文    数学    英语\n",
       "张三  64.2  19.5  44.1\n",
       "李四  72.7  37.3  56.8\n",
       "王二  70.8  53.2  71.1\n",
       "赵一  85.1  13.7  14.2"
      ]
     },
     "execution_count": 3,
     "metadata": {},
     "output_type": "execute_result"
    }
   ],
   "source": [
    "ddd"
   ]
  },
  {
   "cell_type": "code",
   "execution_count": 4,
   "metadata": {},
   "outputs": [
    {
     "data": {
      "text/html": [
       "<div>\n",
       "<style scoped>\n",
       "    .dataframe tbody tr th:only-of-type {\n",
       "        vertical-align: middle;\n",
       "    }\n",
       "\n",
       "    .dataframe tbody tr th {\n",
       "        vertical-align: top;\n",
       "    }\n",
       "\n",
       "    .dataframe thead th {\n",
       "        text-align: right;\n",
       "    }\n",
       "</style>\n",
       "<table border=\"1\" class=\"dataframe\">\n",
       "  <thead>\n",
       "    <tr style=\"text-align: right;\">\n",
       "      <th></th>\n",
       "      <th>语文</th>\n",
       "      <th>数学</th>\n",
       "      <th>英语</th>\n",
       "    </tr>\n",
       "  </thead>\n",
       "  <tbody>\n",
       "    <tr>\n",
       "      <th>张三</th>\n",
       "      <td>16.8</td>\n",
       "      <td>22.6</td>\n",
       "      <td>79.3</td>\n",
       "    </tr>\n",
       "    <tr>\n",
       "      <th>李四</th>\n",
       "      <td>92.8</td>\n",
       "      <td>74.1</td>\n",
       "      <td>54.7</td>\n",
       "    </tr>\n",
       "    <tr>\n",
       "      <th>王二</th>\n",
       "      <td>15.2</td>\n",
       "      <td>98.9</td>\n",
       "      <td>2.6</td>\n",
       "    </tr>\n",
       "    <tr>\n",
       "      <th>赵一</th>\n",
       "      <td>17.6</td>\n",
       "      <td>96.5</td>\n",
       "      <td>42.3</td>\n",
       "    </tr>\n",
       "  </tbody>\n",
       "</table>\n",
       "</div>"
      ],
      "text/plain": [
       "      语文    数学    英语\n",
       "张三  16.8  22.6  79.3\n",
       "李四  92.8  74.1  54.7\n",
       "王二  15.2  98.9   2.6\n",
       "赵一  17.6  96.5  42.3"
      ]
     },
     "execution_count": 4,
     "metadata": {},
     "output_type": "execute_result"
    }
   ],
   "source": [
    "ddd2"
   ]
  },
  {
   "cell_type": "code",
   "execution_count": 5,
   "metadata": {},
   "outputs": [
    {
     "data": {
      "text/html": [
       "<div>\n",
       "<style scoped>\n",
       "    .dataframe tbody tr th:only-of-type {\n",
       "        vertical-align: middle;\n",
       "    }\n",
       "\n",
       "    .dataframe tbody tr th {\n",
       "        vertical-align: top;\n",
       "    }\n",
       "\n",
       "    .dataframe thead th {\n",
       "        text-align: right;\n",
       "    }\n",
       "</style>\n",
       "<table border=\"1\" class=\"dataframe\">\n",
       "  <thead>\n",
       "    <tr style=\"text-align: right;\">\n",
       "      <th></th>\n",
       "      <th>语文</th>\n",
       "      <th>数学</th>\n",
       "      <th>英语</th>\n",
       "    </tr>\n",
       "  </thead>\n",
       "  <tbody>\n",
       "    <tr>\n",
       "      <th>张三</th>\n",
       "      <td>40.50</td>\n",
       "      <td>21.05</td>\n",
       "      <td>61.70</td>\n",
       "    </tr>\n",
       "    <tr>\n",
       "      <th>李四</th>\n",
       "      <td>82.75</td>\n",
       "      <td>55.70</td>\n",
       "      <td>55.75</td>\n",
       "    </tr>\n",
       "    <tr>\n",
       "      <th>王二</th>\n",
       "      <td>43.00</td>\n",
       "      <td>76.05</td>\n",
       "      <td>36.85</td>\n",
       "    </tr>\n",
       "    <tr>\n",
       "      <th>赵一</th>\n",
       "      <td>51.35</td>\n",
       "      <td>55.10</td>\n",
       "      <td>28.25</td>\n",
       "    </tr>\n",
       "  </tbody>\n",
       "</table>\n",
       "</div>"
      ],
      "text/plain": [
       "       语文     数学     英语\n",
       "张三  40.50  21.05  61.70\n",
       "李四  82.75  55.70  55.75\n",
       "王二  43.00  76.05  36.85\n",
       "赵一  51.35  55.10  28.25"
      ]
     },
     "execution_count": 5,
     "metadata": {},
     "output_type": "execute_result"
    }
   ],
   "source": [
    "(ddd+ddd2)/2"
   ]
  },
  {
   "cell_type": "code",
   "execution_count": 6,
   "metadata": {},
   "outputs": [
    {
     "data": {
      "text/html": [
       "<div>\n",
       "<style scoped>\n",
       "    .dataframe tbody tr th:only-of-type {\n",
       "        vertical-align: middle;\n",
       "    }\n",
       "\n",
       "    .dataframe tbody tr th {\n",
       "        vertical-align: top;\n",
       "    }\n",
       "\n",
       "    .dataframe thead th {\n",
       "        text-align: right;\n",
       "    }\n",
       "</style>\n",
       "<table border=\"1\" class=\"dataframe\">\n",
       "  <thead>\n",
       "    <tr style=\"text-align: right;\">\n",
       "      <th></th>\n",
       "      <th>语文</th>\n",
       "      <th>数学</th>\n",
       "      <th>英语</th>\n",
       "    </tr>\n",
       "  </thead>\n",
       "  <tbody>\n",
       "    <tr>\n",
       "      <th>张三</th>\n",
       "      <td>64.2</td>\n",
       "      <td>0.0</td>\n",
       "      <td>44.1</td>\n",
       "    </tr>\n",
       "    <tr>\n",
       "      <th>李四</th>\n",
       "      <td>72.7</td>\n",
       "      <td>37.3</td>\n",
       "      <td>56.8</td>\n",
       "    </tr>\n",
       "    <tr>\n",
       "      <th>王二</th>\n",
       "      <td>70.8</td>\n",
       "      <td>53.2</td>\n",
       "      <td>71.1</td>\n",
       "    </tr>\n",
       "    <tr>\n",
       "      <th>赵一</th>\n",
       "      <td>85.1</td>\n",
       "      <td>13.7</td>\n",
       "      <td>14.2</td>\n",
       "    </tr>\n",
       "  </tbody>\n",
       "</table>\n",
       "</div>"
      ],
      "text/plain": [
       "      语文    数学    英语\n",
       "张三  64.2   0.0  44.1\n",
       "李四  72.7  37.3  56.8\n",
       "王二  70.8  53.2  71.1\n",
       "赵一  85.1  13.7  14.2"
      ]
     },
     "execution_count": 6,
     "metadata": {},
     "output_type": "execute_result"
    }
   ],
   "source": [
    "ddd.loc['张三','数学'] = 0\n",
    "ddd"
   ]
  },
  {
   "cell_type": "code",
   "execution_count": 7,
   "metadata": {},
   "outputs": [
    {
     "data": {
      "text/html": [
       "<div>\n",
       "<style scoped>\n",
       "    .dataframe tbody tr th:only-of-type {\n",
       "        vertical-align: middle;\n",
       "    }\n",
       "\n",
       "    .dataframe tbody tr th {\n",
       "        vertical-align: top;\n",
       "    }\n",
       "\n",
       "    .dataframe thead th {\n",
       "        text-align: right;\n",
       "    }\n",
       "</style>\n",
       "<table border=\"1\" class=\"dataframe\">\n",
       "  <thead>\n",
       "    <tr style=\"text-align: right;\">\n",
       "      <th></th>\n",
       "      <th>语文</th>\n",
       "      <th>数学</th>\n",
       "      <th>英语</th>\n",
       "    </tr>\n",
       "  </thead>\n",
       "  <tbody>\n",
       "    <tr>\n",
       "      <th>张三</th>\n",
       "      <td>64.2</td>\n",
       "      <td>0.0</td>\n",
       "      <td>44.1</td>\n",
       "    </tr>\n",
       "    <tr>\n",
       "      <th>李四</th>\n",
       "      <td>172.7</td>\n",
       "      <td>137.3</td>\n",
       "      <td>156.8</td>\n",
       "    </tr>\n",
       "    <tr>\n",
       "      <th>王二</th>\n",
       "      <td>70.8</td>\n",
       "      <td>53.2</td>\n",
       "      <td>71.1</td>\n",
       "    </tr>\n",
       "    <tr>\n",
       "      <th>赵一</th>\n",
       "      <td>85.1</td>\n",
       "      <td>13.7</td>\n",
       "      <td>14.2</td>\n",
       "    </tr>\n",
       "  </tbody>\n",
       "</table>\n",
       "</div>"
      ],
      "text/plain": [
       "       语文     数学     英语\n",
       "张三   64.2    0.0   44.1\n",
       "李四  172.7  137.3  156.8\n",
       "王二   70.8   53.2   71.1\n",
       "赵一   85.1   13.7   14.2"
      ]
     },
     "execution_count": 7,
     "metadata": {},
     "output_type": "execute_result"
    }
   ],
   "source": [
    "ddd.loc['李四'] += 100\n",
    "ddd"
   ]
  },
  {
   "cell_type": "code",
   "execution_count": 8,
   "metadata": {},
   "outputs": [
    {
     "data": {
      "text/html": [
       "<div>\n",
       "<style scoped>\n",
       "    .dataframe tbody tr th:only-of-type {\n",
       "        vertical-align: middle;\n",
       "    }\n",
       "\n",
       "    .dataframe tbody tr th {\n",
       "        vertical-align: top;\n",
       "    }\n",
       "\n",
       "    .dataframe thead th {\n",
       "        text-align: right;\n",
       "    }\n",
       "</style>\n",
       "<table border=\"1\" class=\"dataframe\">\n",
       "  <thead>\n",
       "    <tr style=\"text-align: right;\">\n",
       "      <th></th>\n",
       "      <th>语文</th>\n",
       "      <th>数学</th>\n",
       "      <th>英语</th>\n",
       "    </tr>\n",
       "  </thead>\n",
       "  <tbody>\n",
       "    <tr>\n",
       "      <th>张三</th>\n",
       "      <td>74.2</td>\n",
       "      <td>10.0</td>\n",
       "      <td>54.1</td>\n",
       "    </tr>\n",
       "    <tr>\n",
       "      <th>李四</th>\n",
       "      <td>182.7</td>\n",
       "      <td>147.3</td>\n",
       "      <td>166.8</td>\n",
       "    </tr>\n",
       "    <tr>\n",
       "      <th>王二</th>\n",
       "      <td>80.8</td>\n",
       "      <td>63.2</td>\n",
       "      <td>81.1</td>\n",
       "    </tr>\n",
       "    <tr>\n",
       "      <th>赵一</th>\n",
       "      <td>95.1</td>\n",
       "      <td>23.7</td>\n",
       "      <td>24.2</td>\n",
       "    </tr>\n",
       "  </tbody>\n",
       "</table>\n",
       "</div>"
      ],
      "text/plain": [
       "       语文     数学     英语\n",
       "张三   74.2   10.0   54.1\n",
       "李四  182.7  147.3  166.8\n",
       "王二   80.8   63.2   81.1\n",
       "赵一   95.1   23.7   24.2"
      ]
     },
     "execution_count": 8,
     "metadata": {},
     "output_type": "execute_result"
    }
   ],
   "source": [
    "ddd.add(10)"
   ]
  },
  {
   "cell_type": "markdown",
   "metadata": {},
   "source": [
    "3. 用今天所学的DataFrame知识点，写一个小说。\n",
    "参考选题：\n",
    "- 菜市场张大妈和李大爷的故事\n",
    "- Python程序员狂虐Java程序员的故事"
   ]
  },
  {
   "cell_type": "markdown",
   "metadata": {},
   "source": [
    "张大妈和李大爷今天都去菜市场买菜，张大妈买了土豆、白菜、胡萝卜、西红柿，\n",
    "李大爷买了土豆、黄瓜、西红柿，大妈考虑到家里人多，就又多买了1个白菜回家了，\n",
    "大爷发现买的土豆有1个坏了就退了1个土豆，又买了1斤猪肉也回去了。大爷，大妈一共买了些什么？"
   ]
  },
  {
   "cell_type": "code",
   "execution_count": 17,
   "metadata": {},
   "outputs": [
    {
     "data": {
      "text/html": [
       "<div>\n",
       "<style scoped>\n",
       "    .dataframe tbody tr th:only-of-type {\n",
       "        vertical-align: middle;\n",
       "    }\n",
       "\n",
       "    .dataframe tbody tr th {\n",
       "        vertical-align: top;\n",
       "    }\n",
       "\n",
       "    .dataframe thead th {\n",
       "        text-align: right;\n",
       "    }\n",
       "</style>\n",
       "<table border=\"1\" class=\"dataframe\">\n",
       "  <thead>\n",
       "    <tr style=\"text-align: right;\">\n",
       "      <th></th>\n",
       "      <th>张大妈</th>\n",
       "      <th>李大爷</th>\n",
       "    </tr>\n",
       "  </thead>\n",
       "  <tbody>\n",
       "    <tr>\n",
       "      <th>土豆</th>\n",
       "      <td>2</td>\n",
       "      <td>3</td>\n",
       "    </tr>\n",
       "    <tr>\n",
       "      <th>白菜</th>\n",
       "      <td>4</td>\n",
       "      <td>0</td>\n",
       "    </tr>\n",
       "    <tr>\n",
       "      <th>胡萝卜</th>\n",
       "      <td>3</td>\n",
       "      <td>0</td>\n",
       "    </tr>\n",
       "    <tr>\n",
       "      <th>西红柿</th>\n",
       "      <td>2</td>\n",
       "      <td>3</td>\n",
       "    </tr>\n",
       "    <tr>\n",
       "      <th>黄瓜</th>\n",
       "      <td>0</td>\n",
       "      <td>1</td>\n",
       "    </tr>\n",
       "  </tbody>\n",
       "</table>\n",
       "</div>"
      ],
      "text/plain": [
       "     张大妈  李大爷\n",
       "土豆     2    3\n",
       "白菜     4    0\n",
       "胡萝卜    3    0\n",
       "西红柿    2    3\n",
       "黄瓜     0    1"
      ]
     },
     "execution_count": 17,
     "metadata": {},
     "output_type": "execute_result"
    }
   ],
   "source": [
    "def create_cai(index,columns):\n",
    "    shape = (len(index), len(columns))\n",
    "    data = np.random.randint(1,5,size=shape)\n",
    "    return DataFrame(data,index,columns)\n",
    "shopping = create_cai(['土豆','白菜','胡萝卜','西红柿','黄瓜'],\n",
    "                     ['张大妈','李大爷'])\n",
    "shopping.loc[['黄瓜'],'张大妈'] = 0\n",
    "shopping.loc[['白菜','胡萝卜'],'李大爷'] = 0\n",
    "shopping"
   ]
  },
  {
   "cell_type": "code",
   "execution_count": 18,
   "metadata": {},
   "outputs": [
    {
     "data": {
      "text/html": [
       "<div>\n",
       "<style scoped>\n",
       "    .dataframe tbody tr th:only-of-type {\n",
       "        vertical-align: middle;\n",
       "    }\n",
       "\n",
       "    .dataframe tbody tr th {\n",
       "        vertical-align: top;\n",
       "    }\n",
       "\n",
       "    .dataframe thead th {\n",
       "        text-align: right;\n",
       "    }\n",
       "</style>\n",
       "<table border=\"1\" class=\"dataframe\">\n",
       "  <thead>\n",
       "    <tr style=\"text-align: right;\">\n",
       "      <th></th>\n",
       "      <th>张大妈</th>\n",
       "      <th>李大爷</th>\n",
       "    </tr>\n",
       "  </thead>\n",
       "  <tbody>\n",
       "    <tr>\n",
       "      <th>土豆</th>\n",
       "      <td>2.0</td>\n",
       "      <td>2.0</td>\n",
       "    </tr>\n",
       "    <tr>\n",
       "      <th>白菜</th>\n",
       "      <td>5.0</td>\n",
       "      <td>0.0</td>\n",
       "    </tr>\n",
       "    <tr>\n",
       "      <th>胡萝卜</th>\n",
       "      <td>3.0</td>\n",
       "      <td>0.0</td>\n",
       "    </tr>\n",
       "    <tr>\n",
       "      <th>西红柿</th>\n",
       "      <td>2.0</td>\n",
       "      <td>3.0</td>\n",
       "    </tr>\n",
       "    <tr>\n",
       "      <th>黄瓜</th>\n",
       "      <td>0.0</td>\n",
       "      <td>1.0</td>\n",
       "    </tr>\n",
       "    <tr>\n",
       "      <th>猪肉</th>\n",
       "      <td>0.0</td>\n",
       "      <td>1.0</td>\n",
       "    </tr>\n",
       "  </tbody>\n",
       "</table>\n",
       "</div>"
      ],
      "text/plain": [
       "     张大妈  李大爷\n",
       "土豆   2.0  2.0\n",
       "白菜   5.0  0.0\n",
       "胡萝卜  3.0  0.0\n",
       "西红柿  2.0  3.0\n",
       "黄瓜   0.0  1.0\n",
       "猪肉   0.0  1.0"
      ]
     },
     "execution_count": 18,
     "metadata": {},
     "output_type": "execute_result"
    }
   ],
   "source": [
    "shopping.loc['白菜','张大妈'] += 1\n",
    "shopping.loc['土豆','李大爷'] -= 1\n",
    "shopping.loc['猪肉','李大爷'] = 1\n",
    "shopping.fillna(0)"
   ]
  },
  {
   "cell_type": "markdown",
   "metadata": {},
   "source": [
    "# 补数据分析第一天的作业"
   ]
  },
  {
   "cell_type": "markdown",
   "metadata": {},
   "source": [
    "#扩展任务 1.给定一个数据库表A，\n",
    "内容如下： year,month,amount 1991,1, 1.1 1991,2, 1.2 1992,1, 2.1 1992,2, 2,2 请写出SQL语句，\n",
    "让查询的结果为： year，m1, m2 1991,1.1, 1.2 1992,2.1, 2,2 提示： 使用if()函数或自连表查询"
   ]
  },
  {
   "cell_type": "markdown",
   "metadata": {},
   "source": [
    "create table A(year char(4), month varchar(2), amount float);\n",
    "insert into A values\n",
    "('1991','1', 1.1),\n",
    "('1991','2', 1.2),\n",
    "('1992','1', 2.1),\n",
    "('1992','2', 2.2);\n",
    "#自连表查询\n",
    "select a1.year, a1.amount as m1, a2.amount as m2 \n",
    "from A a1 join A a2 on (a1.year = a2.year) where a1.month='1' and a2.month='2';\n",
    "#if()函数\n",
    "select year,max(round(if(month='1',amount,0),1)) as m1,max(round(if(month='2',amount,0),1)) as m2 \n",
    "from A group by year;"
   ]
  },
  {
   "cell_type": "code",
   "execution_count": 19,
   "metadata": {},
   "outputs": [
    {
     "data": {
      "text/plain": [
       "array([[3, 6, 2, 9],\n",
       "       [5, 8, 3, 3]])"
      ]
     },
     "execution_count": 19,
     "metadata": {},
     "output_type": "execute_result"
    }
   ],
   "source": [
    "#13、给定一个二维矩阵，如何交换其中两行的元素？\n",
    "arr13 = np.random.randint(1,10,size=(2,4))\n",
    "arr13"
   ]
  },
  {
   "cell_type": "code",
   "execution_count": 20,
   "metadata": {},
   "outputs": [
    {
     "data": {
      "text/plain": [
       "array([[5, 8, 3, 3],\n",
       "       [3, 6, 2, 9]])"
      ]
     },
     "execution_count": 20,
     "metadata": {},
     "output_type": "execute_result"
    }
   ],
   "source": [
    "arr13[[0,1]] = arr13[[1,0]]\n",
    "arr13"
   ]
  },
  {
   "cell_type": "code",
   "execution_count": 23,
   "metadata": {},
   "outputs": [
    {
     "data": {
      "text/plain": [
       "array([0.5488135 , 0.71518937, 0.60276338, ..., 0.81013284, 0.55103228,\n",
       "       0.22575586])"
      ]
     },
     "metadata": {},
     "output_type": "display_data"
    },
    {
     "data": {
      "text/plain": [
       "array([0.16530058, 0.36581638, 0.21899821, ..., 0.53170251, 0.16731355,\n",
       "       0.01150581])"
      ]
     },
     "metadata": {},
     "output_type": "display_data"
    },
    {
     "data": {
      "text/plain": [
       "array([0.16530058, 0.36581638, 0.21899821, ..., 0.53170251, 0.16731355,\n",
       "       0.01150581])"
      ]
     },
     "metadata": {},
     "output_type": "display_data"
    },
    {
     "name": "stdout",
     "output_type": "stream",
     "text": [
      "Wall time: 5 ms\n",
      "Wall time: 1.01 ms\n"
     ]
    },
    {
     "data": {
      "text/plain": [
       "array([0.16530058, 0.36581638, 0.21899821, ..., 0.53170251, 0.16731355,\n",
       "       0.01150581])"
      ]
     },
     "execution_count": 23,
     "metadata": {},
     "output_type": "execute_result"
    }
   ],
   "source": [
    "#14、创建一个100000长度的随机数组，使用两种方法对其求三次方，并比较所用时间\n",
    "np.random.seed(0)\n",
    "x = np.random.rand(100000)\n",
    "display(x)\n",
    "display(x*x*x)\n",
    "display(np.power(x,3))\n",
    "%time np.power(x,3)\n",
    "%time x*x*x"
   ]
  },
  {
   "cell_type": "code",
   "execution_count": 25,
   "metadata": {},
   "outputs": [],
   "source": [
    "#15、创建一个5*3随机矩阵和一个3*2随机矩阵，求矩阵积\n",
    "arr15 = np.random.randint(10,size=(5,3))\n",
    "arr_15 = np.random.randint(10,size=(3,2))\n"
   ]
  },
  {
   "cell_type": "code",
   "execution_count": 26,
   "metadata": {},
   "outputs": [
    {
     "data": {
      "text/plain": [
       "array([[5, 8, 1],\n",
       "       [8, 4, 6],\n",
       "       [0, 8, 2],\n",
       "       [0, 5, 0],\n",
       "       [8, 1, 4]])"
      ]
     },
     "execution_count": 26,
     "metadata": {},
     "output_type": "execute_result"
    }
   ],
   "source": [
    "arr15"
   ]
  },
  {
   "cell_type": "code",
   "execution_count": 27,
   "metadata": {},
   "outputs": [
    {
     "data": {
      "text/plain": [
       "array([[7, 5],\n",
       "       [5, 6],\n",
       "       [2, 6]])"
      ]
     },
     "execution_count": 27,
     "metadata": {},
     "output_type": "execute_result"
    }
   ],
   "source": [
    "arr_15"
   ]
  },
  {
   "cell_type": "code",
   "execution_count": 29,
   "metadata": {},
   "outputs": [
    {
     "data": {
      "text/plain": [
       "array([[ 77,  79],\n",
       "       [ 88, 100],\n",
       "       [ 44,  60],\n",
       "       [ 25,  30],\n",
       "       [ 69,  70]])"
      ]
     },
     "execution_count": 29,
     "metadata": {},
     "output_type": "execute_result"
    }
   ],
   "source": [
    "np.dot(arr15,arr_15)"
   ]
  },
  {
   "cell_type": "code",
   "execution_count": 30,
   "metadata": {},
   "outputs": [],
   "source": [
    "#16、矩阵的每一行的元素都减去该行的平均值\n"
   ]
  },
  {
   "cell_type": "markdown",
   "metadata": {},
   "source": [
    "#17、打印出以下函数（要求使用np.zeros创建8*8的矩阵）：\n",
    "[[0 1 0 1 0 1 0 1]\n",
    " [1 0 1 0 1 0 1 0]\n",
    " [0 1 0 1 0 1 0 1]\n",
    " [1 0 1 0 1 0 1 0]\n",
    " [0 1 0 1 0 1 0 1]\n",
    " [1 0 1 0 1 0 1 0]\n",
    " [0 1 0 1 0 1 0 1]\n",
    " [1 0 1 0 1 0 1 0]]"
   ]
  },
  {
   "cell_type": "code",
   "execution_count": 32,
   "metadata": {},
   "outputs": [
    {
     "name": "stdout",
     "output_type": "stream",
     "text": [
      "[[0 1 0 1 0 1 0 1]\n",
      " [1 0 1 0 1 0 1 0]\n",
      " [0 1 0 1 0 1 0 1]\n",
      " [1 0 1 0 1 0 1 0]\n",
      " [0 1 0 1 0 1 0 1]\n",
      " [1 0 1 0 1 0 1 0]\n",
      " [0 1 0 1 0 1 0 1]\n",
      " [1 0 1 0 1 0 1 0]]\n"
     ]
    }
   ],
   "source": [
    "arr17 = np.zeros((8,8),dtype=int)\n",
    "arr17[1::2,::2] = 1\n",
    "arr17[::2,1::2] = 1\n",
    "print(arr17)"
   ]
  },
  {
   "cell_type": "markdown",
   "metadata": {},
   "source": [
    "#18、正则化一个5*5随机矩阵\n",
    "正则的概念：假设a是矩阵中的一个元素，\n",
    "max/min分别是矩阵元素的最大最小值，则正则化后a = (a - min)/(max - min)"
   ]
  },
  {
   "cell_type": "code",
   "execution_count": 34,
   "metadata": {},
   "outputs": [
    {
     "name": "stdout",
     "output_type": "stream",
     "text": [
      "[[60 20 55 18 21]\n",
      " [37 12 86 46 47]\n",
      " [15 85 21 16 76]\n",
      " [47 83 69 76 62]\n",
      " [46 72 80 47 57]]\n",
      "********************\n",
      "[[0.64864865 0.10810811 0.58108108 0.08108108 0.12162162]\n",
      " [0.33783784 0.         1.         0.45945946 0.47297297]\n",
      " [0.04054054 0.98648649 0.12162162 0.05405405 0.86486486]\n",
      " [0.47297297 0.95945946 0.77027027 0.86486486 0.67567568]\n",
      " [0.45945946 0.81081081 0.91891892 0.47297297 0.60810811]]\n"
     ]
    }
   ],
   "source": [
    "arr18 = np.random.randint(10,100,size = (5,5))\n",
    "print(arr18)\n",
    "arr18max, arr18min = arr18.max(), arr18.min()\n",
    "arr18 = (arr18 - arr18min)/(arr18max - arr18min)\n",
    "print('*'*20)\n",
    "print(arr18)"
   ]
  },
  {
   "cell_type": "code",
   "execution_count": null,
   "metadata": {},
   "outputs": [],
   "source": [
    "#19、将一个一维数组转化为二进制表示矩阵。例如\n",
    "[1,2,3]\n",
    "转化为\n",
    "[[0,0,1],\n",
    "[0,1,0],\n",
    "[0,1,1]]"
   ]
  },
  {
   "cell_type": "code",
   "execution_count": null,
   "metadata": {},
   "outputs": [],
   "source": [
    "#20、实现冒泡排序法"
   ]
  }
 ],
 "metadata": {
  "kernelspec": {
   "display_name": "Python 3",
   "language": "python",
   "name": "python3"
  },
  "language_info": {
   "codemirror_mode": {
    "name": "ipython",
    "version": 3
   },
   "file_extension": ".py",
   "mimetype": "text/x-python",
   "name": "python",
   "nbconvert_exporter": "python",
   "pygments_lexer": "ipython3",
   "version": "3.7.3"
  }
 },
 "nbformat": 4,
 "nbformat_minor": 2
}
