{
 "cells": [
  {
   "cell_type": "code",
   "execution_count": 2,
   "metadata": {},
   "outputs": [],
   "source": [
    "import numpy as np"
   ]
  },
  {
   "cell_type": "code",
   "execution_count": null,
   "metadata": {},
   "outputs": [],
   "source": []
  },
  {
   "cell_type": "code",
   "execution_count": 2,
   "metadata": {},
   "outputs": [
    {
     "data": {
      "text/plain": [
       "<module 'numpy.version' from 'G:\\\\Anaconda3\\\\lib\\\\site-packages\\\\numpy\\\\version.py'>"
      ]
     },
     "execution_count": 2,
     "metadata": {},
     "output_type": "execute_result"
    }
   ],
   "source": [
    "np.version"
   ]
  },
  {
   "cell_type": "code",
   "execution_count": 3,
   "metadata": {},
   "outputs": [
    {
     "ename": "AttributeError",
     "evalue": "module 'numpy' has no attribute '_version_'",
     "output_type": "error",
     "traceback": [
      "\u001b[1;31m---------------------------------------------------------------------------\u001b[0m",
      "\u001b[1;31mAttributeError\u001b[0m                            Traceback (most recent call last)",
      "\u001b[1;32m<ipython-input-3-909e40e75034>\u001b[0m in \u001b[0;36m<module>\u001b[1;34m\u001b[0m\n\u001b[1;32m----> 1\u001b[1;33m \u001b[0mnp\u001b[0m\u001b[1;33m.\u001b[0m\u001b[0m_version_\u001b[0m\u001b[1;33m\u001b[0m\u001b[1;33m\u001b[0m\u001b[0m\n\u001b[0m",
      "\u001b[1;31mAttributeError\u001b[0m: module 'numpy' has no attribute '_version_'"
     ]
    }
   ],
   "source": [
    "np._version_"
   ]
  },
  {
   "cell_type": "code",
   "execution_count": 4,
   "metadata": {},
   "outputs": [
    {
     "data": {
      "text/plain": [
       "'1.16.2'"
      ]
     },
     "execution_count": 4,
     "metadata": {},
     "output_type": "execute_result"
    }
   ],
   "source": [
    "np.__version__"
   ]
  },
  {
   "cell_type": "markdown",
   "metadata": {},
   "source": [
    "##创建ndarray对象\n",
    "-使用list列表和numpy.array()函数\n",
    "-使用numpy库中提供的相关函数"
   ]
  },
  {
   "cell_type": "code",
   "execution_count": 5,
   "metadata": {},
   "outputs": [
    {
     "data": {
      "text/plain": [
       "array([1, 2, 3], dtype=int8)"
      ]
     },
     "execution_count": 5,
     "metadata": {},
     "output_type": "execute_result"
    }
   ],
   "source": [
    "#使用list方式创建多维数组ndarray对象\n",
    "arr1 = np.array([1,2,3],dtype=np.int8)\n",
    "#[注意] 数组的元素类型都是统一的，\n",
    "#       如果不统一时，则按int>float>str 从低到高的优先级进行转换\n",
    "arr1"
   ]
  },
  {
   "cell_type": "code",
   "execution_count": 7,
   "metadata": {},
   "outputs": [
    {
     "ename": "ValueError",
     "evalue": "invalid literal for int() with base 10: 'disen'",
     "output_type": "error",
     "traceback": [
      "\u001b[1;31m---------------------------------------------------------------------------\u001b[0m",
      "\u001b[1;31mValueError\u001b[0m                                Traceback (most recent call last)",
      "\u001b[1;32m<ipython-input-7-4af70c67282f>\u001b[0m in \u001b[0;36m<module>\u001b[1;34m\u001b[0m\n\u001b[1;32m----> 1\u001b[1;33m \u001b[0marr2\u001b[0m \u001b[1;33m=\u001b[0m \u001b[0mnp\u001b[0m\u001b[1;33m.\u001b[0m\u001b[0marray\u001b[0m\u001b[1;33m(\u001b[0m\u001b[1;33m[\u001b[0m\u001b[1;34m'disen'\u001b[0m\u001b[1;33m,\u001b[0m\u001b[1;36m20\u001b[0m\u001b[1;33m,\u001b[0m\u001b[1;36m99.5\u001b[0m\u001b[1;33m]\u001b[0m\u001b[1;33m,\u001b[0m\u001b[0mdtype\u001b[0m \u001b[1;33m=\u001b[0m \u001b[0mnp\u001b[0m\u001b[1;33m.\u001b[0m\u001b[0mint8\u001b[0m\u001b[1;33m)\u001b[0m\u001b[1;33m\u001b[0m\u001b[1;33m\u001b[0m\u001b[0m\n\u001b[0m\u001b[0;32m      2\u001b[0m \u001b[0marr2\u001b[0m\u001b[1;33m\u001b[0m\u001b[1;33m\u001b[0m\u001b[0m\n",
      "\u001b[1;31mValueError\u001b[0m: invalid literal for int() with base 10: 'disen'"
     ]
    }
   ],
   "source": [
    "arr2 = np.array(['disen',20,99.5],dtype = np.int8)\n",
    "arr2"
   ]
  },
  {
   "cell_type": "code",
   "execution_count": 8,
   "metadata": {},
   "outputs": [
    {
     "data": {
      "text/plain": [
       "array(['disen', '20', '99.5'], dtype='<U5')"
      ]
     },
     "execution_count": 8,
     "metadata": {},
     "output_type": "execute_result"
    }
   ],
   "source": [
    "arr2 = np.array(['disen',20,99.5])\n",
    "arr2"
   ]
  },
  {
   "cell_type": "code",
   "execution_count": 10,
   "metadata": {},
   "outputs": [
    {
     "name": "stdout",
     "output_type": "stream",
     "text": [
      "1\n",
      "2\n",
      "3\n"
     ]
    }
   ],
   "source": [
    "#是否可以通过元组来创建ndarray\n",
    "for _ in np.array((1,2,3)):\n",
    "    print(_)"
   ]
  },
  {
   "cell_type": "code",
   "execution_count": 11,
   "metadata": {},
   "outputs": [
    {
     "data": {
      "text/plain": [
       "array([[1, 2],\n",
       "       [3, 4],\n",
       "       [5, 6]], dtype=int8)"
      ]
     },
     "execution_count": 11,
     "metadata": {},
     "output_type": "execute_result"
    }
   ],
   "source": [
    "# ndarrray是一个多维数组的对象\n",
    "#可以是一维的,二维，...n维的\n",
    "data = (\n",
    "    (1,2),\n",
    "    (3,4),\n",
    "    (5,6),\n",
    ")\n",
    "arr3 = np.array(data,np.int8)\n",
    "arr3"
   ]
  },
  {
   "cell_type": "markdown",
   "metadata": {},
   "source": [
    "### numpy的函数创建ndarray"
   ]
  },
  {
   "cell_type": "code",
   "execution_count": 18,
   "metadata": {},
   "outputs": [
    {
     "data": {
      "text/plain": [
       "array([[1, 1, 1],\n",
       "       [1, 1, 1],\n",
       "       [1, 1, 1]], dtype=int8)"
      ]
     },
     "execution_count": 18,
     "metadata": {},
     "output_type": "execute_result"
    }
   ],
   "source": [
    "#1. 创建3*3的二维数组，每个元素都是1\n",
    "arr_1 = np.ones(shape=(3,3),dtype = np.int8)\n",
    "arr_1.astype(np.int8)"
   ]
  },
  {
   "cell_type": "code",
   "execution_count": 19,
   "metadata": {},
   "outputs": [
    {
     "data": {
      "text/plain": [
       "array([[[0, 0],\n",
       "        [0, 0],\n",
       "        [0, 0]],\n",
       "\n",
       "       [[0, 0],\n",
       "        [0, 0],\n",
       "        [0, 0]],\n",
       "\n",
       "       [[0, 0],\n",
       "        [0, 0],\n",
       "        [0, 0]]])"
      ]
     },
     "execution_count": 19,
     "metadata": {},
     "output_type": "execute_result"
    }
   ],
   "source": [
    "#2. 创建3*3*2的三维数组，每个元素都是0\n",
    "arr_2 = np.zeros((3,3,2),dtype=np.int)\n",
    "arr_2"
   ]
  },
  {
   "cell_type": "code",
   "execution_count": 21,
   "metadata": {},
   "outputs": [
    {
     "data": {
      "text/plain": [
       "array([[9, 9, 9],\n",
       "       [9, 9, 9],\n",
       "       [9, 9, 9],\n",
       "       [9, 9, 9]], dtype=int8)"
      ]
     },
     "execution_count": 21,
     "metadata": {},
     "output_type": "execute_result"
    }
   ],
   "source": [
    "#创建4*3的二维数组，每个元素都是9\n",
    "arr_3 = np.full((4,3),fill_value=9,dtype=np.int8)\n",
    "arr_3"
   ]
  },
  {
   "cell_type": "code",
   "execution_count": 22,
   "metadata": {},
   "outputs": [
    {
     "data": {
      "text/plain": [
       "array([[1, 0, 0, 0, 0],\n",
       "       [0, 1, 0, 0, 0],\n",
       "       [0, 0, 1, 0, 0],\n",
       "       [0, 0, 0, 1, 0],\n",
       "       [0, 0, 0, 0, 1]])"
      ]
     },
     "execution_count": 22,
     "metadata": {},
     "output_type": "execute_result"
    }
   ],
   "source": [
    "#4.创建5*5的二维数组，对角线上的每个元素都是1的单位矩阵\n",
    "arr_4 = np.eye(5,dtype=int)\n",
    "arr_4"
   ]
  },
  {
   "cell_type": "markdown",
   "metadata": {},
   "source": [
    "### 创建等差数列\n",
    "- numpy.linspace()\n",
    "- numpy.arrange()"
   ]
  },
  {
   "cell_type": "code",
   "execution_count": 24,
   "metadata": {},
   "outputs": [
    {
     "data": {
      "text/plain": [
       "array([  2,   4,   6,   8,  10,  12,  14,  16,  18,  20,  22,  24,  26,\n",
       "        28,  30,  32,  34,  36,  38,  40,  42,  44,  46,  48,  50,  52,\n",
       "        54,  56,  58,  60,  62,  64,  66,  68,  70,  72,  74,  76,  78,\n",
       "        80,  82,  84,  86,  88,  90,  92,  94,  96,  98, 100])"
      ]
     },
     "execution_count": 24,
     "metadata": {},
     "output_type": "execute_result"
    }
   ],
   "source": [
    "arr_5 = np.linspace(2,100,num=50,endpoint=True).astype(int)\n",
    "arr_5"
   ]
  },
  {
   "cell_type": "code",
   "execution_count": 28,
   "metadata": {},
   "outputs": [
    {
     "data": {
      "text/plain": [
       "array([ 0,  2,  4,  6,  8, 10, 12, 14, 16, 18, 20, 22, 24, 26, 28, 30, 32,\n",
       "       34, 36, 38, 40, 42, 44, 46, 48, 50, 52, 54, 56, 58, 60, 62, 64, 66,\n",
       "       68, 70, 72, 74, 76, 78, 80, 82, 84, 86, 88, 90, 92, 94, 96, 98])"
      ]
     },
     "execution_count": 28,
     "metadata": {},
     "output_type": "execute_result"
    }
   ],
   "source": [
    "arr_6 = np.arange(100,step=2)#不包含stop值，默认start是0\n",
    "arr_6"
   ]
  },
  {
   "cell_type": "markdown",
   "metadata": {},
   "source": [
    "### 随机生成ndarray\n",
    "- numpy.random.random()\n",
    "- numpy.random.randint()\n",
    "- numpy.random.uniform()\n",
    "- numpy.random.randn()\n",
    "- numpy.random.nomal()"
   ]
  },
  {
   "cell_type": "code",
   "execution_count": 29,
   "metadata": {},
   "outputs": [
    {
     "data": {
      "text/plain": [
       "array([[0.91131385, 0.33918057],\n",
       "       [0.04183866, 0.15059878],\n",
       "       [0.3892588 , 0.18631539]])"
      ]
     },
     "execution_count": 29,
     "metadata": {},
     "output_type": "execute_result"
    }
   ],
   "source": [
    "arr_7 = np.random.random((3,2))#取值范围[0,1)\n",
    "arr_7"
   ]
  },
  {
   "cell_type": "code",
   "execution_count": 30,
   "metadata": {},
   "outputs": [
    {
     "data": {
      "text/plain": [
       "array([[9, 7, 1],\n",
       "       [3, 0, 1],\n",
       "       [5, 9, 3],\n",
       "       [2, 8, 3],\n",
       "       [7, 5, 6]])"
      ]
     },
     "execution_count": 30,
     "metadata": {},
     "output_type": "execute_result"
    }
   ],
   "source": [
    "arr_8 = np.random.randint(10,size=(5,3))\n",
    "arr_8"
   ]
  },
  {
   "cell_type": "code",
   "execution_count": 34,
   "metadata": {},
   "outputs": [
    {
     "data": {
      "text/plain": [
       "array([[3.10319768, 1.71221911, 4.6046022 , 2.28945209, 5.3805344 ],\n",
       "       [3.11304668, 2.46936741, 1.79768947, 4.67011712, 5.42650607],\n",
       "       [2.9230885 , 2.24477536, 3.60099322, 4.07491413, 4.98561122],\n",
       "       [5.21265228, 1.88892138, 3.93851917, 4.08119179, 2.6203186 ]])"
      ]
     },
     "execution_count": 34,
     "metadata": {},
     "output_type": "execute_result"
    }
   ],
   "source": [
    "arr_9 = np.random.uniform(1.5,5.5,size=(4,5))\n",
    "arr_9"
   ]
  },
  {
   "cell_type": "code",
   "execution_count": 33,
   "metadata": {},
   "outputs": [
    {
     "data": {
      "text/plain": [
       "4.56"
      ]
     },
     "execution_count": 33,
     "metadata": {},
     "output_type": "execute_result"
    }
   ],
   "source": [
    "# ndarray的元素是否可以四舍五入？\n",
    "round(4.5555555,2)"
   ]
  },
  {
   "cell_type": "code",
   "execution_count": 5,
   "metadata": {},
   "outputs": [
    {
     "data": {
      "text/plain": [
       "array([[[-0.52817175, -1.07296862,  0.86540763, -2.3015387 ],\n",
       "        [ 1.74481176, -0.7612069 ,  0.3190391 , -0.24937038]],\n",
       "\n",
       "       [[ 1.46210794, -2.06014071, -0.3224172 , -0.38405435],\n",
       "        [ 1.13376944, -1.09989127, -0.17242821, -0.87785842]],\n",
       "\n",
       "       [[ 0.04221375,  0.58281521, -1.10061918,  1.14472371],\n",
       "        [ 0.90159072,  0.50249434,  0.90085595, -0.68372786]]])"
      ]
     },
     "execution_count": 5,
     "metadata": {},
     "output_type": "execute_result"
    }
   ],
   "source": [
    "arr_10 = np.random.randn(3,2,4)\n",
    "arr_10"
   ]
  },
  {
   "cell_type": "code",
   "execution_count": 3,
   "metadata": {},
   "outputs": [
    {
     "data": {
      "text/plain": [
       "array([[4.17022005e-01, 7.20324493e-01],\n",
       "       [1.14374817e-04, 3.02332573e-01],\n",
       "       [1.46755891e-01, 9.23385948e-02]])"
      ]
     },
     "execution_count": 3,
     "metadata": {},
     "output_type": "execute_result"
    }
   ],
   "source": [
    "np.random.seed(1) #随机种子：使用相同的种子，每次生成的数据是一样的\n",
    "np.random.random((3,2))"
   ]
  },
  {
   "cell_type": "markdown",
   "metadata": {},
   "source": [
    "### ndarray 对象的属性\n",
    "- ndim,维度，一个数值，如：2\n",
    "- shape 形状，是一个元组，如(3,)或(3,2)\n",
    "- size 元素的总大小，即元素的个数\n",
    "- dtype 元素的数据类型 "
   ]
  },
  {
   "cell_type": "code",
   "execution_count": 6,
   "metadata": {},
   "outputs": [
    {
     "data": {
      "text/plain": [
       "3"
      ]
     },
     "execution_count": 6,
     "metadata": {},
     "output_type": "execute_result"
    }
   ],
   "source": [
    "arr_10.ndim"
   ]
  },
  {
   "cell_type": "code",
   "execution_count": 9,
   "metadata": {},
   "outputs": [
    {
     "data": {
      "text/plain": [
       "(3, 2, 4)"
      ]
     },
     "metadata": {},
     "output_type": "display_data"
    },
    {
     "data": {
      "text/plain": [
       "24"
      ]
     },
     "metadata": {},
     "output_type": "display_data"
    },
    {
     "data": {
      "text/plain": [
       "dtype('float64')"
      ]
     },
     "metadata": {},
     "output_type": "display_data"
    }
   ],
   "source": [
    "display(arr_10.shape)\n",
    "display(arr_10.size)\n",
    "display(arr_10.dtype)"
   ]
  },
  {
   "cell_type": "markdown",
   "metadata": {},
   "source": [
    "### ndarray 的索引操作\n",
    "- 索引位置\n",
    "    - a[下标]\n",
    "    - a[行下标，列下标]\n",
    "    - a[[下标1，下标2, ...]]\n",
    "    \n",
    "- 索引切片\n",
    "    - a[起始:结束:步长]\n",
    "    - a[:结束]从0开始\n",
    "    - a[:,下标]"
   ]
  },
  {
   "cell_type": "code",
   "execution_count": 12,
   "metadata": {},
   "outputs": [
    {
     "data": {
      "text/plain": [
       "array([[23, 15, 87],\n",
       "       [25, 71, 92],\n",
       "       [74, 62, 46],\n",
       "       [32, 88, 23],\n",
       "       [55, 65, 77]])"
      ]
     },
     "execution_count": 12,
     "metadata": {},
     "output_type": "execute_result"
    }
   ],
   "source": [
    "# 生成5位同学的三门课程成绩表\n",
    "d = np.random.randint(100,size=(5,3))\n",
    "d"
   ]
  },
  {
   "cell_type": "code",
   "execution_count": 13,
   "metadata": {},
   "outputs": [
    {
     "data": {
      "text/plain": [
       "62"
      ]
     },
     "execution_count": 13,
     "metadata": {},
     "output_type": "execute_result"
    }
   ],
   "source": [
    "#查看第3位同学的第2门课程的成绩\n",
    "d[2,1]"
   ]
  },
  {
   "cell_type": "code",
   "execution_count": 15,
   "metadata": {},
   "outputs": [
    {
     "data": {
      "text/plain": [
       "array([[25, 92],\n",
       "       [32, 23],\n",
       "       [55, 77]])"
      ]
     },
     "execution_count": 15,
     "metadata": {},
     "output_type": "execute_result"
    }
   ],
   "source": [
    "#查看第2、4、5位同学的第1门和第3门课程的成绩\n",
    "d[[1,3,4]][:,[0,2]]"
   ]
  },
  {
   "cell_type": "code",
   "execution_count": 17,
   "metadata": {},
   "outputs": [
    {
     "data": {
      "text/plain": [
       "array([[23, 15],\n",
       "       [25, 71],\n",
       "       [74, 62]])"
      ]
     },
     "execution_count": 17,
     "metadata": {},
     "output_type": "execute_result"
    }
   ],
   "source": [
    "d[:3,:2]"
   ]
  },
  {
   "cell_type": "code",
   "execution_count": 18,
   "metadata": {},
   "outputs": [
    {
     "data": {
      "text/plain": [
       "array([[87, 15, 23],\n",
       "       [92, 71, 25],\n",
       "       [46, 62, 74],\n",
       "       [23, 88, 32],\n",
       "       [77, 65, 55]])"
      ]
     },
     "execution_count": 18,
     "metadata": {},
     "output_type": "execute_result"
    }
   ],
   "source": [
    "#将所有列反转一下\n",
    "d[:,::-1]"
   ]
  },
  {
   "cell_type": "markdown",
   "metadata": {},
   "source": [
    "### 变形与转置\n",
    "- ndarray.reshape()变形\n",
    "- ndarray.T/transponse()矩形的转置"
   ]
  },
  {
   "cell_type": "code",
   "execution_count": 36,
   "metadata": {},
   "outputs": [
    {
     "data": {
      "text/plain": [
       "array([53, 47, 60, 34, 32, 19, 67, 24, 83, 94, 38, 47,  5, 79, 63, 87, 32,\n",
       "       42, 74, 66, 88, 98, 30, 17])"
      ]
     },
     "execution_count": 36,
     "metadata": {},
     "output_type": "execute_result"
    }
   ],
   "source": [
    "d = np.random.randint(100,size=24)\n",
    "d"
   ]
  },
  {
   "cell_type": "code",
   "execution_count": 37,
   "metadata": {},
   "outputs": [
    {
     "data": {
      "text/plain": [
       "array([53, 47, 60, 34, 32, 19, 67, 24, 83, 94, 38, 47,  5, 79, 63, 87, 32,\n",
       "       42, 74, 66, 88, 98, 30, 17])"
      ]
     },
     "execution_count": 37,
     "metadata": {},
     "output_type": "execute_result"
    }
   ],
   "source": [
    "d.reshape(-1)"
   ]
  },
  {
   "cell_type": "code",
   "execution_count": 21,
   "metadata": {},
   "outputs": [
    {
     "data": {
      "text/plain": [
       "(24,)"
      ]
     },
     "execution_count": 21,
     "metadata": {},
     "output_type": "execute_result"
    }
   ],
   "source": [
    "d.shape"
   ]
  },
  {
   "cell_type": "code",
   "execution_count": 23,
   "metadata": {},
   "outputs": [
    {
     "data": {
      "text/plain": [
       "array([[57, 82, 96, 13, 10, 23, 81,  7],\n",
       "       [24, 74, 92, 20, 32, 12, 65, 94],\n",
       "       [60, 24, 82, 97,  2, 92, 98, 10]])"
      ]
     },
     "execution_count": 23,
     "metadata": {},
     "output_type": "execute_result"
    }
   ],
   "source": [
    "d.reshape((3,8))"
   ]
  },
  {
   "cell_type": "code",
   "execution_count": 24,
   "metadata": {
    "collapsed": true
   },
   "outputs": [
    {
     "data": {
      "text/plain": [
       "array([[57, 82],\n",
       "       [96, 13],\n",
       "       [10, 23],\n",
       "       [81,  7],\n",
       "       [24, 74],\n",
       "       [92, 20],\n",
       "       [32, 12],\n",
       "       [65, 94],\n",
       "       [60, 24],\n",
       "       [82, 97],\n",
       "       [ 2, 92],\n",
       "       [98, 10]])"
      ]
     },
     "execution_count": 24,
     "metadata": {},
     "output_type": "execute_result"
    }
   ],
   "source": [
    "#变成2列，任意行数\n",
    "d.reshape((-1,2))"
   ]
  },
  {
   "cell_type": "markdown",
   "metadata": {},
   "source": [
    "### 注意：无论如何变形，数组的总长度size不会变的。"
   ]
  },
  {
   "cell_type": "code",
   "execution_count": 26,
   "metadata": {},
   "outputs": [
    {
     "data": {
      "text/plain": [
       "array([[57, 82, 96, 13, 10, 23, 81,  7],\n",
       "       [24, 74, 92, 20, 32, 12, 65, 94],\n",
       "       [60, 24, 82, 97,  2, 92, 98, 10]])"
      ]
     },
     "execution_count": 26,
     "metadata": {},
     "output_type": "execute_result"
    }
   ],
   "source": [
    "d2 = d.reshape((3,8))\n",
    "d2"
   ]
  },
  {
   "cell_type": "code",
   "execution_count": 27,
   "metadata": {},
   "outputs": [
    {
     "data": {
      "text/plain": [
       "array([[57, 24, 60],\n",
       "       [82, 74, 24],\n",
       "       [96, 92, 82],\n",
       "       [13, 20, 97],\n",
       "       [10, 32,  2],\n",
       "       [23, 12, 92],\n",
       "       [81, 65, 98],\n",
       "       [ 7, 94, 10]])"
      ]
     },
     "execution_count": 27,
     "metadata": {},
     "output_type": "execute_result"
    }
   ],
   "source": [
    "d2.T"
   ]
  },
  {
   "cell_type": "code",
   "execution_count": 29,
   "metadata": {},
   "outputs": [
    {
     "data": {
      "text/plain": [
       "array([[57, 24, 60],\n",
       "       [82, 74, 24],\n",
       "       [96, 92, 82],\n",
       "       [13, 20, 97],\n",
       "       [10, 32,  2],\n",
       "       [23, 12, 92],\n",
       "       [81, 65, 98],\n",
       "       [ 7, 94, 10]])"
      ]
     },
     "execution_count": 29,
     "metadata": {},
     "output_type": "execute_result"
    }
   ],
   "source": [
    "d2.transpose()"
   ]
  },
  {
   "cell_type": "markdown",
   "metadata": {},
   "source": [
    "#扩展任务\n",
    "1.给定一个数据库表A，内容如下：\n",
    "    year,month,amount\n",
    "    1991,1,    1.1\n",
    "    1991,2,    1.2\n",
    "    1992,1,    2.1\n",
    "    1992,2,    2,2\n",
    "请写出SQL语句，让查询的结果为：\n",
    "    year，m1, m2\n",
    "    1991,1.1, 1.2\n",
    "    1992,2.1, 2,2\n",
    "提示： 使用if()函数或自连表查询"
   ]
  },
  {
   "cell_type": "markdown",
   "metadata": {},
   "source": [
    "### ndarray的级联\n",
    "将多个数组按水平或垂直的方向进行拼接，axis表示级联的方向\n",
    "- np.concatenate((a1,a2,...),axis=0)\n",
    "- np.hstack((a1,a2,...))水平方向\n",
    "- np.vstack((a1,a2,...))垂直方向"
   ]
  },
  {
   "cell_type": "code",
   "execution_count": 32,
   "metadata": {},
   "outputs": [
    {
     "data": {
      "text/plain": [
       "array([[42, 20, 53, 84],\n",
       "       [48, 22, 10, 96],\n",
       "       [13, 97, 55, 61]])"
      ]
     },
     "execution_count": 32,
     "metadata": {},
     "output_type": "execute_result"
    }
   ],
   "source": [
    "#生成两个三位学生的2门课程的成绩表，并且合成4门课程的3位同学的成绩表\n",
    "s1 = np.random.randint(100,size=(3,2))\n",
    "s2 = np.random.randint(100,size=(3,2))\n",
    "np.concatenate((s1,s2),axis=1)"
   ]
  },
  {
   "cell_type": "markdown",
   "metadata": {},
   "source": [
    "#ndarray 的切割\n",
    "- np.split(arr,indexies_or_sections,axis=0)\n",
    "- np.hsplit()\n",
    "- np.vsplit()\n"
   ]
  },
  {
   "cell_type": "code",
   "execution_count": 33,
   "metadata": {},
   "outputs": [
    {
     "data": {
      "text/plain": [
       "array([[56, 89, 21, 96, 83, 25],\n",
       "       [14, 13, 84, 43,  6, 77],\n",
       "       [56, 59, 15, 24,  9, 66],\n",
       "       [71, 53, 69, 36, 21, 40],\n",
       "       [77, 91, 49, 47, 77, 40],\n",
       "       [78, 45, 87, 16, 28, 45],\n",
       "       [67, 66, 78, 46,  0, 29],\n",
       "       [63, 75, 35, 53, 93, 33],\n",
       "       [ 2, 84, 83, 48, 54, 32],\n",
       "       [28, 55, 82, 31, 28, 94]])"
      ]
     },
     "execution_count": 33,
     "metadata": {},
     "output_type": "execute_result"
    }
   ],
   "source": [
    "s3 = np.random.randint(100,size=(10,6))\n",
    "s3"
   ]
  },
  {
   "cell_type": "code",
   "execution_count": 34,
   "metadata": {},
   "outputs": [
    {
     "data": {
      "text/plain": [
       "[array([[56, 89, 21],\n",
       "        [14, 13, 84],\n",
       "        [56, 59, 15],\n",
       "        [71, 53, 69],\n",
       "        [77, 91, 49],\n",
       "        [78, 45, 87],\n",
       "        [67, 66, 78],\n",
       "        [63, 75, 35],\n",
       "        [ 2, 84, 83],\n",
       "        [28, 55, 82]]), array([[96, 83, 25],\n",
       "        [43,  6, 77],\n",
       "        [24,  9, 66],\n",
       "        [36, 21, 40],\n",
       "        [47, 77, 40],\n",
       "        [16, 28, 45],\n",
       "        [46,  0, 29],\n",
       "        [53, 93, 33],\n",
       "        [48, 54, 32],\n",
       "        [31, 28, 94]])]"
      ]
     },
     "execution_count": 34,
     "metadata": {},
     "output_type": "execute_result"
    }
   ],
   "source": [
    "np.split(s3,[3],axis=1)"
   ]
  },
  {
   "cell_type": "code",
   "execution_count": null,
   "metadata": {},
   "outputs": [],
   "source": []
  }
 ],
 "metadata": {
  "kernelspec": {
   "display_name": "Python 3",
   "language": "python",
   "name": "python3"
  },
  "language_info": {
   "codemirror_mode": {
    "name": "ipython",
    "version": 3
   },
   "file_extension": ".py",
   "mimetype": "text/x-python",
   "name": "python",
   "nbconvert_exporter": "python",
   "pygments_lexer": "ipython3",
   "version": "3.7.3"
  }
 },
 "nbformat": 4,
 "nbformat_minor": 2
}
